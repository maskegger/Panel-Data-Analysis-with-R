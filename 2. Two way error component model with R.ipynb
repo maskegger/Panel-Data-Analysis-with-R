{
 "cells": [
  {
   "cell_type": "markdown",
   "metadata": {},
   "source": [
    "\n",
    "#### Author of Jupyter Notebook : Monika Avila Marquez \n",
    "\n",
    "#### References: based on https://cran.r-project.org/web/packages/plm/vignettes/B_plmFunction.html\n",
    "\n",
    "(All possible mistakes are my responsability and encourage you to email me in case you find any)"
   ]
  },
  {
   "cell_type": "markdown",
   "metadata": {},
   "source": [
    "### TWO WAY ERROR COMPONENT MODEL"
   ]
  },
  {
   "cell_type": "markdown",
   "metadata": {},
   "source": [
    "In this Jupyter Notebook, I provide the implementation of Example 3.6.1 of Chapter3 Two way Error Component Model of Badi Baltagi, Econometric Analysis of Panel Data, 5th. "
   ]
  },
  {
   "cell_type": "markdown",
   "metadata": {},
   "source": [
    "Goals:\n",
    "\n",
    "1. Estimation of the Grunfeld investment equation using a Two-Way Error Component Model.  \n",
    "\n",
    "Grunfeld (1958) considers the investment equation: \n",
    "\n",
    "$$I_{it}=\\alpha+\\beta_1F_{it}+\\beta_2C_{it}+\\nu_i+\\lambda_t+\\epsilon_{it};$$\n",
    "\n",
    "where: \n",
    "\n",
    "$I_{it}$: real gross investment of firm $i$ in period $t$.\n",
    "\n",
    "$F_{it}$: real value of tfirm $i$ in period $t$ (shares outstanding). \n",
    "\n",
    "$C_{it}$: real value of the capital stock of firm $i$ in period $t$.\n",
    "\n",
    "$\\nu_i$: the individual specific effect. \n",
    "\n",
    "$\\lambda_t$:the time specific effect.\n",
    "\n",
    "$\\epsilon_{it}$: disturbance term;\n",
    "\n",
    "The panel is balanced and is composed of 20 firms observed over 20 years for the period 1935-1954. \n",
    "\n",
    "We aim to estimate this regression using Pooled, FE specification, uncorrelated RE specification. \n",
    "\n",
    "2. Test for correlation of specific effects \n"
   ]
  },
  {
   "cell_type": "markdown",
   "metadata": {},
   "source": [
    "1. Estimation of the Grunfeld investment equation using a Two-Way Error Component Model.  \n"
   ]
  },
  {
   "cell_type": "code",
   "execution_count": 2,
   "metadata": {},
   "outputs": [
    {
     "name": "stderr",
     "output_type": "stream",
     "text": [
      "Installing package into 'C:/Users/Monika/Documents/R/win-library/3.5'\n",
      "(as 'lib' is unspecified)\n"
     ]
    },
    {
     "name": "stdout",
     "output_type": "stream",
     "text": [
      "package 'AER' successfully unpacked and MD5 sums checked\n",
      "\n",
      "The downloaded binary packages are in\n",
      "\tC:\\Users\\Monika\\AppData\\Local\\Temp\\RtmpewMvi8\\downloaded_packages\n"
     ]
    },
    {
     "name": "stderr",
     "output_type": "stream",
     "text": [
      "Installing package into 'C:/Users/Monika/Documents/R/win-library/3.5'\n",
      "(as 'lib' is unspecified)\n"
     ]
    },
    {
     "name": "stdout",
     "output_type": "stream",
     "text": [
      "\n",
      "  There is a binary version available but the source version is later:\n",
      "    binary source needs_compilation\n",
      "plm  2.2-3  2.4-1             FALSE\n",
      "\n"
     ]
    },
    {
     "name": "stderr",
     "output_type": "stream",
     "text": [
      "installing the source package 'plm'\n",
      "\n",
      "Installing package into 'C:/Users/Monika/Documents/R/win-library/3.5'\n",
      "(as 'lib' is unspecified)\n"
     ]
    },
    {
     "name": "stdout",
     "output_type": "stream",
     "text": [
      "package 'stargazer' successfully unpacked and MD5 sums checked\n",
      "\n",
      "The downloaded binary packages are in\n",
      "\tC:\\Users\\Monika\\AppData\\Local\\Temp\\RtmpewMvi8\\downloaded_packages\n"
     ]
    },
    {
     "name": "stderr",
     "output_type": "stream",
     "text": [
      "Installing package into 'C:/Users/Monika/Documents/R/win-library/3.5'\n",
      "(as 'lib' is unspecified)\n",
      "Warning message:\n",
      "\"package 'screenreg' is not available (for R version 3.5.0)\""
     ]
    }
   ],
   "source": [
    "install.packages('AER')\n",
    "install.packages('plm')\n",
    "install.packages('stargazer')\n",
    "install.packages('screenreg')"
   ]
  },
  {
   "cell_type": "code",
   "execution_count": 3,
   "metadata": {},
   "outputs": [
    {
     "name": "stderr",
     "output_type": "stream",
     "text": [
      "Installing package into 'C:/Users/Monika/Documents/R/win-library/3.5'\n",
      "(as 'lib' is unspecified)\n",
      "Warning message:\n",
      "\"package 'screenreg' is not available (for R version 3.5.0)\""
     ]
    }
   ],
   "source": [
    "install.packages('screenreg')"
   ]
  },
  {
   "cell_type": "code",
   "execution_count": 4,
   "metadata": {},
   "outputs": [
    {
     "name": "stderr",
     "output_type": "stream",
     "text": [
      "Warning message:\n",
      "\"package 'AER' was built under R version 3.5.3\"Loading required package: car\n",
      "Warning message:\n",
      "\"package 'car' was built under R version 3.5.2\"Loading required package: carData\n",
      "Warning message:\n",
      "\"package 'carData' was built under R version 3.5.2\"Loading required package: lmtest\n",
      "Warning message:\n",
      "\"package 'lmtest' was built under R version 3.5.3\"Loading required package: zoo\n",
      "Warning message:\n",
      "\"package 'zoo' was built under R version 3.5.2\"\n",
      "Attaching package: 'zoo'\n",
      "\n",
      "The following objects are masked from 'package:base':\n",
      "\n",
      "    as.Date, as.Date.numeric\n",
      "\n",
      "Loading required package: sandwich\n",
      "Warning message:\n",
      "\"package 'sandwich' was built under R version 3.5.2\"Loading required package: survival\n",
      "Warning message:\n",
      "\"package 'stargazer' was built under R version 3.5.2\"\n",
      "Please cite as: \n",
      "\n",
      " Hlavac, Marek (2018). stargazer: Well-Formatted Regression and Summary Statistics Tables.\n",
      " R package version 5.2.2. https://CRAN.R-project.org/package=stargazer \n",
      "\n"
     ]
    },
    {
     "ename": "ERROR",
     "evalue": "Error in library(screenreg): there is no package called 'screenreg'\n",
     "output_type": "error",
     "traceback": [
      "Error in library(screenreg): there is no package called 'screenreg'\nTraceback:\n",
      "1. library(screenreg)",
      "2. stop(txt, domain = NA)"
     ]
    }
   ],
   "source": [
    "library(AER)\n",
    "library(plm)\n",
    "library(stargazer)\n",
    "library(screenreg)"
   ]
  },
  {
   "cell_type": "code",
   "execution_count": 7,
   "metadata": {},
   "outputs": [
    {
     "data": {
      "text/html": [
       "<table>\n",
       "<thead><tr><th scope=col>firm</th><th scope=col>year</th><th scope=col>inv</th><th scope=col>value</th><th scope=col>capital</th></tr></thead>\n",
       "<tbody>\n",
       "\t<tr><td>1     </td><td>1935  </td><td>317.6 </td><td>3078.5</td><td>  2.8 </td></tr>\n",
       "\t<tr><td>1     </td><td>1936  </td><td>391.8 </td><td>4661.7</td><td> 52.6 </td></tr>\n",
       "\t<tr><td>1     </td><td>1937  </td><td>410.6 </td><td>5387.1</td><td>156.9 </td></tr>\n",
       "\t<tr><td>1     </td><td>1938  </td><td>257.7 </td><td>2792.2</td><td>209.2 </td></tr>\n",
       "\t<tr><td>1     </td><td>1939  </td><td>330.8 </td><td>4313.2</td><td>203.4 </td></tr>\n",
       "\t<tr><td>1     </td><td>1940  </td><td>461.2 </td><td>4643.9</td><td>207.2 </td></tr>\n",
       "</tbody>\n",
       "</table>\n"
      ],
      "text/latex": [
       "\\begin{tabular}{r|lllll}\n",
       " firm & year & inv & value & capital\\\\\n",
       "\\hline\n",
       "\t 1      & 1935   & 317.6  & 3078.5 &   2.8 \\\\\n",
       "\t 1      & 1936   & 391.8  & 4661.7 &  52.6 \\\\\n",
       "\t 1      & 1937   & 410.6  & 5387.1 & 156.9 \\\\\n",
       "\t 1      & 1938   & 257.7  & 2792.2 & 209.2 \\\\\n",
       "\t 1      & 1939   & 330.8  & 4313.2 & 203.4 \\\\\n",
       "\t 1      & 1940   & 461.2  & 4643.9 & 207.2 \\\\\n",
       "\\end{tabular}\n"
      ],
      "text/markdown": [
       "\n",
       "| firm | year | inv | value | capital |\n",
       "|---|---|---|---|---|\n",
       "| 1      | 1935   | 317.6  | 3078.5 |   2.8  |\n",
       "| 1      | 1936   | 391.8  | 4661.7 |  52.6  |\n",
       "| 1      | 1937   | 410.6  | 5387.1 | 156.9  |\n",
       "| 1      | 1938   | 257.7  | 2792.2 | 209.2  |\n",
       "| 1      | 1939   | 330.8  | 4313.2 | 203.4  |\n",
       "| 1      | 1940   | 461.2  | 4643.9 | 207.2  |\n",
       "\n"
      ],
      "text/plain": [
       "  firm year inv   value  capital\n",
       "1 1    1935 317.6 3078.5   2.8  \n",
       "2 1    1936 391.8 4661.7  52.6  \n",
       "3 1    1937 410.6 5387.1 156.9  \n",
       "4 1    1938 257.7 2792.2 209.2  \n",
       "5 1    1939 330.8 4313.2 203.4  \n",
       "6 1    1940 461.2 4643.9 207.2  "
      ]
     },
     "metadata": {},
     "output_type": "display_data"
    }
   ],
   "source": [
    "# 1.1. Upload data  \n",
    "data(\"Grunfeld\", package = \"plm\")\n",
    "head(Grunfeld)"
   ]
  },
  {
   "cell_type": "code",
   "execution_count": 8,
   "metadata": {},
   "outputs": [
    {
     "data": {
      "text/plain": [
       "      firm           year           inv              value        \n",
       " Min.   : 1.0   Min.   :1935   Min.   :   0.93   Min.   :  58.12  \n",
       " 1st Qu.: 3.0   1st Qu.:1940   1st Qu.:  33.56   1st Qu.: 199.97  \n",
       " Median : 5.5   Median :1944   Median :  57.48   Median : 517.95  \n",
       " Mean   : 5.5   Mean   :1944   Mean   : 145.96   Mean   :1081.68  \n",
       " 3rd Qu.: 8.0   3rd Qu.:1949   3rd Qu.: 138.04   3rd Qu.:1679.85  \n",
       " Max.   :10.0   Max.   :1954   Max.   :1486.70   Max.   :6241.70  \n",
       "    capital       \n",
       " Min.   :   0.80  \n",
       " 1st Qu.:  79.17  \n",
       " Median : 205.60  \n",
       " Mean   : 276.02  \n",
       " 3rd Qu.: 358.10  \n",
       " Max.   :2226.30  "
      ]
     },
     "metadata": {},
     "output_type": "display_data"
    },
    {
     "data": {
      "text/html": [
       "200"
      ],
      "text/latex": [
       "200"
      ],
      "text/markdown": [
       "200"
      ],
      "text/plain": [
       "[1] 200"
      ]
     },
     "metadata": {},
     "output_type": "display_data"
    },
    {
     "data": {
      "text/html": [
       "200"
      ],
      "text/latex": [
       "200"
      ],
      "text/markdown": [
       "200"
      ],
      "text/plain": [
       "[1] 200"
      ]
     },
     "metadata": {},
     "output_type": "display_data"
    }
   ],
   "source": [
    "# 1.1. Data exploration\n",
    "# 1.1.1 Size or amount of data\n",
    "summary(Grunfeld)\n",
    "nrow(Grunfeld)\n",
    "# 1.1.2 Completeness of the data\n",
    "NROW(na.omit(Grunfeld))\n",
    "# 1.1.3 Correctness of the data\n",
    "#We do not have much info about this so we can \n",
    "#assume data is correct and no measurement error on the variables\n"
   ]
  },
  {
   "cell_type": "code",
   "execution_count": 9,
   "metadata": {},
   "outputs": [],
   "source": [
    "N=10\n",
    "T=20"
   ]
  },
  {
   "cell_type": "code",
   "execution_count": 10,
   "metadata": {},
   "outputs": [
    {
     "name": "stderr",
     "output_type": "stream",
     "text": [
      "Warning message in plot.window(...):\n",
      "\"\"reg.line\" is not a graphical parameter\"Warning message in plot.xy(xy, type, ...):\n",
      "\"\"reg.line\" is not a graphical parameter\"Warning message in axis(side = side, at = at, labels = labels, ...):\n",
      "\"\"reg.line\" is not a graphical parameter\"Warning message in axis(side = side, at = at, labels = labels, ...):\n",
      "\"\"reg.line\" is not a graphical parameter\"Warning message in box(...):\n",
      "\"\"reg.line\" is not a graphical parameter\"Warning message in title(...):\n",
      "\"\"reg.line\" is not a graphical parameter\"Warning message in scatterplot.default(X[, 2], X[, 1], groups = X[, 3], xlab = xlab, :\n",
      "\"number of groups exceeds number of available colors\n",
      "  colors are recycled\""
     ]
    },
    {
     "data": {
      "image/png": "[encoded data removed]",
      "text/plain": [
       "plot without title"
      ]
     },
     "metadata": {},
     "output_type": "display_data"
    }
   ],
   "source": [
    "# 1.1.4 Graphical analysis \n",
    "scatterplot(inv~year|firm, boxplots=FALSE, smooth=TRUE, reg.line=FALSE, data=Grunfeld)\n"
   ]
  },
  {
   "cell_type": "code",
   "execution_count": 11,
   "metadata": {},
   "outputs": [
    {
     "data": {
      "text/plain": [
       "\n",
       "Call:\n",
       "lm(formula = inv ~ value + capital, data = Grunfeld)\n",
       "\n",
       "Residuals:\n",
       "    Min      1Q  Median      3Q     Max \n",
       "-291.68  -30.01    5.30   34.83  369.45 \n",
       "\n",
       "Coefficients:\n",
       "              Estimate Std. Error t value Pr(>|t|)    \n",
       "(Intercept) -42.714369   9.511676  -4.491 1.21e-05 ***\n",
       "value         0.115562   0.005836  19.803  < 2e-16 ***\n",
       "capital       0.230678   0.025476   9.055  < 2e-16 ***\n",
       "---\n",
       "Signif. codes:  0 '***' 0.001 '**' 0.01 '*' 0.05 '.' 0.1 ' ' 1\n",
       "\n",
       "Residual standard error: 94.41 on 197 degrees of freedom\n",
       "Multiple R-squared:  0.8124,\tAdjusted R-squared:  0.8105 \n",
       "F-statistic: 426.6 on 2 and 197 DF,  p-value: < 2.2e-16\n"
      ]
     },
     "metadata": {},
     "output_type": "display_data"
    }
   ],
   "source": [
    "# 1.2. Data modeling\n",
    "# 1.2.1 Naive pooled OLS\n",
    "ols <-lm(inv ~ value + capital, data=Grunfeld)\n",
    "summary(ols)"
   ]
  },
  {
   "cell_type": "markdown",
   "metadata": {},
   "source": [
    "\n",
    "Problems? \n",
    "\n",
    "Ignoring unobserved firm and time specific heterogeneity can cause two issues depending on the correlation of this heterogeneity with the regressors. As a result, OLS is not the most efficient neither consistent if the unoberserved effects are correlated to the regressors. \n"
   ]
  },
  {
   "cell_type": "code",
   "execution_count": 30,
   "metadata": {},
   "outputs": [
    {
     "data": {
      "image/png": "[encoded data removed]",
      "text/plain": [
       "plot without title"
      ]
     },
     "metadata": {},
     "output_type": "display_data"
    }
   ],
   "source": [
    "\n",
    "yhat <- ols$fitted\n",
    "plot(Grunfeld$inv, Grunfeld$value, pch=19, xlab=\"x1\", ylab=\"y\")\n",
    "abline(lm(Grunfeld$value~Grunfeld$inv),lwd=3, col=\"red\")"
   ]
  },
  {
   "cell_type": "markdown",
   "metadata": {},
   "source": [
    "We can see that the fitting of a linear pooling the data might not be the best. "
   ]
  },
  {
   "cell_type": "code",
   "execution_count": 31,
   "metadata": {},
   "outputs": [
    {
     "data": {
      "text/plain": [
       "Twoways effects Random Effect Model \n",
       "   (Wallace-Hussain's transformation)\n",
       "\n",
       "Call:\n",
       "plm(formula = inv ~ value + capital, data = Grunfeld, effect = \"twoways\", \n",
       "    model = \"random\", random.method = \"walhus\", random.dfcor = 3)\n",
       "\n",
       "Balanced Panel: n = 10, T = 20, N = 200\n",
       "\n",
       "Effects:\n",
       "                  var std.dev share\n",
       "idiosyncratic 3061.74   55.33 0.287\n",
       "individual    7623.78   87.31 0.713\n",
       "time             0.00    0.00 0.000\n",
       "theta: 0.8597 (id) 0 (time) 0 (total)\n",
       "\n",
       "Residuals:\n",
       "     Min.   1st Qu.    Median   3rd Qu.      Max. \n",
       "-177.8486  -19.9495    4.7488   19.5289  252.9392 \n",
       "\n",
       "Coefficients:\n",
       "              Estimate Std. Error z-value Pr(>|z|)    \n",
       "(Intercept) -57.817054  28.632578 -2.0193  0.04346 *  \n",
       "value         0.109776   0.010473 10.4818  < 2e-16 ***\n",
       "capital       0.308069   0.017186 17.9258  < 2e-16 ***\n",
       "---\n",
       "Signif. codes:  0 '***' 0.001 '**' 0.01 '*' 0.05 '.' 0.1 ' ' 1\n",
       "\n",
       "Total Sum of Squares:    2384400\n",
       "Residual Sum of Squares: 549470\n",
       "R-Squared:      0.76956\n",
       "Adj. R-Squared: 0.76722\n",
       "Chisq: 657.888 on 2 DF, p-value: < 2.22e-16"
      ]
     },
     "metadata": {},
     "output_type": "display_data"
    }
   ],
   "source": [
    "# 1.2.2 Way Random Effects Model \n",
    "Grw <- plm(inv ~ value + capital, Grunfeld, model = \"random\", effect = \"twoways\", \n",
    "           random.method = \"walhus\", random.dfcor = 3)\n",
    "Grs <- update(Grw, random.method = \"swar\")\n",
    "Gra <- update(Grw, random.method = \"amemiya\")\n",
    "\n",
    "summary(Grw)"
   ]
  },
  {
   "cell_type": "markdown",
   "metadata": {},
   "source": [
    "2 way random effects model. \n"
   ]
  },
  {
   "cell_type": "code",
   "execution_count": 25,
   "metadata": {},
   "outputs": [
    {
     "data": {
      "text/plain": [
       "\n",
       "Call:\n",
       "lm(formula = inv_w ~ c_w + v_w - 1, data = Panel_demeaned)\n",
       "\n",
       "Residuals:\n",
       "     Min       1Q   Median       3Q      Max \n",
       "-162.609  -19.471   -1.267   19.128  211.842 \n",
       "\n",
       "Coefficients:\n",
       "    Estimate Std. Error t value Pr(>|t|)    \n",
       "c_w  0.35792    0.02099  17.052   <2e-16 ***\n",
       "v_w  0.11772    0.01270   9.266   <2e-16 ***\n",
       "---\n",
       "Signif. codes:  0 '***' 0.001 '**' 0.01 '*' 0.05 '.' 0.1 ' ' 1\n",
       "\n",
       "Residual standard error: 47.79 on 198 degrees of freedom\n",
       "Multiple R-squared:  0.7201,\tAdjusted R-squared:  0.7173 \n",
       "F-statistic: 254.8 on 2 and 198 DF,  p-value: < 2.2e-16\n"
      ]
     },
     "metadata": {},
     "output_type": "display_data"
    }
   ],
   "source": [
    "# 1.2.3.Within Estimation: This is the optimal to avoid incidental parameter bias. \n",
    "# Obtain demeaned data\n",
    "Panel_demeaned <- with(Grunfeld,\n",
    "            data.frame(inv_w = inv - ave(inv, firm)-ave(inv, year)+ave(inv),\n",
    "            c_w = capital - ave(capital, firm)- ave(capital, year)+ave(capital),v_w = value - ave(value, firm)- ave(value, year)+ave(value)))\n",
    "# Estimate the regression\n",
    "summary(lm(inv_w ~ c_w +v_w- 1, data = Panel_demeaned))"
   ]
  },
  {
   "cell_type": "markdown",
   "metadata": {},
   "source": [
    "2 way FE  model"
   ]
  },
  {
   "cell_type": "code",
   "execution_count": 17,
   "metadata": {},
   "outputs": [
    {
     "name": "stderr",
     "output_type": "stream",
     "text": [
      "Installing package into 'C:/Users/Monika/Documents/R/win-library/3.5'\n",
      "(as 'lib' is unspecified)\n",
      "also installing the dependency 'lmtest'\n",
      "\n"
     ]
    },
    {
     "name": "stdout",
     "output_type": "stream",
     "text": [
      "\n",
      "  There are binary versions available but the source versions are later:\n",
      "       binary source needs_compilation\n",
      "lmtest 0.9-37 0.9-38              TRUE\n",
      "plm     2.2-3  2.4-1             FALSE\n",
      "\n",
      "  Binaries will be installed\n",
      "package 'lmtest' successfully unpacked and MD5 sums checked\n",
      "\n",
      "The downloaded binary packages are in\n",
      "\tC:\\Users\\Monika\\AppData\\Local\\Temp\\Rtmp8IYTWk\\downloaded_packages\n"
     ]
    },
    {
     "name": "stderr",
     "output_type": "stream",
     "text": [
      "installing the source package 'plm'\n",
      "\n"
     ]
    }
   ],
   "source": [
    "install.packages(\"plm\")\n",
    "library(plm)"
   ]
  },
  {
   "cell_type": "code",
   "execution_count": 24,
   "metadata": {},
   "outputs": [
    {
     "data": {
      "text/plain": [
       "Twoways effects Within Model\n",
       "\n",
       "Call:\n",
       "plm(formula = inv ~ value + capital, data = Grunfeld, effect = \"twoways\", \n",
       "    model = \"within\")\n",
       "\n",
       "Balanced Panel: n = 10, T = 20, N = 200\n",
       "\n",
       "Residuals:\n",
       "     Min.   1st Qu.    Median   3rd Qu.      Max. \n",
       "-162.6094  -19.4710   -1.2669   19.1277  211.8420 \n",
       "\n",
       "Coefficients:\n",
       "        Estimate Std. Error t-value  Pr(>|t|)    \n",
       "value   0.117716   0.013751  8.5604 6.653e-15 ***\n",
       "capital 0.357916   0.022719 15.7540 < 2.2e-16 ***\n",
       "---\n",
       "Signif. codes:  0 '***' 0.001 '**' 0.01 '*' 0.05 '.' 0.1 ' ' 1\n",
       "\n",
       "Total Sum of Squares:    1615600\n",
       "Residual Sum of Squares: 452150\n",
       "R-Squared:      0.72015\n",
       "Adj. R-Squared: 0.67047\n",
       "F-statistic: 217.442 on 2 and 169 DF, p-value: < 2.22e-16"
      ]
     },
     "metadata": {},
     "output_type": "display_data"
    }
   ],
   "source": [
    "# Within Estimation: Another option in R \n",
    "# (Reference for this section: https://www.econometrics-with-r.org/10-3-fixed-effects-regression.html)\n",
    "# install and load the 'plm' package\n",
    "\n",
    "# estimate the fixed effects regression with plm()\n",
    "wi <- plm(inv ~ value + capital,data = Grunfeld, model=\"within\", effect = \"twoways\")\n",
    "summary(wi)"
   ]
  },
  {
   "cell_type": "markdown",
   "metadata": {},
   "source": [
    "2. Test for correlation of specific effects "
   ]
  },
  {
   "cell_type": "code",
   "execution_count": 28,
   "metadata": {},
   "outputs": [
    {
     "data": {
      "text/plain": [
       "\n",
       "\tHausman Test\n",
       "\n",
       "data:  inv ~ value + capital\n",
       "chisq = 13.55, df = 2, p-value = 0.001142\n",
       "alternative hypothesis: one model is inconsistent\n"
      ]
     },
     "metadata": {},
     "output_type": "display_data"
    }
   ],
   "source": [
    "phtest(wi, Grw)"
   ]
  },
  {
   "cell_type": "markdown",
   "metadata": {},
   "source": [
    "With a S.L. of 5% we reject the H_o and conclude that the specific effects are correlated to the included regressors. \n",
    "Thus, the FE is preferable to the RE specification.\n"
   ]
  },
  {
   "cell_type": "code",
   "execution_count": null,
   "metadata": {},
   "outputs": [],
   "source": []
  }
 ],
 "metadata": {
  "kernelspec": {
   "display_name": "R",
   "language": "R",
   "name": "ir"
  },
  "language_info": {
   "codemirror_mode": "r",
   "file_extension": ".r",
   "mimetype": "text/x-r-source",
   "name": "R",
   "pygments_lexer": "r",
   "version": "3.5.0"
  }
 },
 "nbformat": 4,
 "nbformat_minor": 2
}
