{
 "cells": [
  {
   "cell_type": "markdown",
   "metadata": {},
   "source": [
    "\n",
    "#### Author of Jupyter Notebook : Monika Avila Marquez \n",
    "\n",
    "#### References:\n",
    "1. https://cran.r-project.org/web/packages/plm/vignettes/B_plmFunction.html\n",
    "2. Croissant, Y., & Millo, G. (2019). Panel data econometrics with R. Wiley.\n",
    "3. Dynamic Panel Data Models of Badi Baltagi, Econometric Analysis of Panel Data, 5th.\n",
    "4. Installing jupyter notebook r kernel: https://datascience.stackexchange.com/questions/77335/anconda-r-version-how-to-upgrade-to-4-0-and-later\n",
    "\n",
    "(All possible mistakes are my responsability and encourage you to email me in case you find any)"
   ]
  },
  {
   "cell_type": "code",
   "execution_count": 5,
   "metadata": {},
   "outputs": [
    {
     "data": {
      "text/plain": [
       "               _                           \n",
       "platform       x86_64-w64-mingw32          \n",
       "arch           x86_64                      \n",
       "os             mingw32                     \n",
       "system         x86_64, mingw32             \n",
       "status                                     \n",
       "major          4                           \n",
       "minor          0.0                         \n",
       "year           2020                        \n",
       "month          04                          \n",
       "day            24                          \n",
       "svn rev        78286                       \n",
       "language       R                           \n",
       "version.string R version 4.0.0 (2020-04-24)\n",
       "nickname       Arbor Day                   "
      ]
     },
     "metadata": {},
     "output_type": "display_data"
    }
   ],
   "source": [
    "#Note: be sure you have R 4.0.0 minimum.\n",
    "\n",
    "R.version\n"
   ]
  },
  {
   "cell_type": "markdown",
   "metadata": {},
   "source": [
    "### LINEAR DYNAMIC PANEL DATA MODELS"
   ]
  },
  {
   "cell_type": "markdown",
   "metadata": {},
   "source": [
    "In this Jupyter Notebook, I provide the implementation of:\n",
    "\n",
    "1. Example 8.8 of Chapter8 Dynamic Panel Data Models of Badi Baltagi, Econometric Analysis of Panel Data, 5th. \n"
   ]
  },
  {
   "cell_type": "markdown",
   "metadata": {},
   "source": [
    "#### 1. Example 8.8 of Chapter8 Dynamic Panel Data Models of Badi Baltagi, Econometric Analysis of Panel Data, 5th. "
   ]
  },
  {
   "cell_type": "markdown",
   "metadata": {},
   "source": [
    "Goals:\n",
    "\n",
    "1. Estimation of the Dynamic Demand of Cigarettes  \n",
    "\n",
    "Baltagi and Levin (1992) considers the dynamic demand of cigarettes: \n",
    "\n",
    "$$lnC_{it}=\\alpha+\\beta_1lnC_{it-1}+\\beta_2lnP_{it}+\\beta_3lnY_{it}+\\beta_4lnPn_{it}+\\nu_i+\\lambda_t+\\epsilon_{it};$$\n",
    "\n",
    "where: \n",
    "\n",
    "$C_{it}$: real pee capita sales by person of smoking age (>13 years old) of state $i$ in period $t$. This is the number of packs of cigarettes per head. \n",
    "\n",
    "$P_{it}$: average retail real price of a pack of cigarettes of state $i$ in period $t$.\n",
    "\n",
    "$Y_{it}$: real per capita disposable income of state $i$ in period $t$.\n",
    "\n",
    "$Pn_{it}$: minimum real price of cigarettes in any neighboring state for state $i$ in period $t$.\n",
    "\n",
    "$\\nu_i$: the state specific effect. \n",
    "\n",
    "$\\lambda_t$:the time specific effect. These effects controle different policy interventions and health warnings that ocurred in USA. \n",
    "\n",
    "$\\epsilon_{it}$: disturbance term;\n",
    "\n",
    "The panel is balanced and is composed of 46 states observed over 30 years for the period 1963-1992. \n",
    "\n",
    "We aim to estimate this model using Pooled, FE specification, GMM: AH, AB, BB. \n",
    "\n",
    "\n"
   ]
  },
  {
   "cell_type": "code",
   "execution_count": 8,
   "metadata": {},
   "outputs": [
    {
     "name": "stderr",
     "output_type": "stream",
     "text": [
      "Warning message:\n",
      "\"package 'AER' is in use and will not be installed\"\n",
      "Warning message:\n",
      "\"package 'plm' is in use and will not be installed\"\n",
      "Warning message:\n",
      "\"package 'stargazer' is in use and will not be installed\"\n",
      "Warning message:\n",
      "\"package 'panelvar' is in use and will not be installed\"\n"
     ]
    }
   ],
   "source": [
    "install.packages('AER')\n",
    "install.packages('plm')\n",
    "install.packages('stargazer')\n",
    "#install.packages('screenreg')\n",
    "install.packages('panelvar')"
   ]
  },
  {
   "cell_type": "code",
   "execution_count": 9,
   "metadata": {},
   "outputs": [],
   "source": [
    "library(AER)\n",
    "library(plm)\n",
    "library(stargazer)\n",
    "#library(screenreg)\n",
    "library(panelvar)"
   ]
  },
  {
   "cell_type": "code",
   "execution_count": 10,
   "metadata": {},
   "outputs": [
    {
     "data": {
      "text/html": [
       "<table>\n",
       "<caption>A data.frame: 6 × 16</caption>\n",
       "<thead>\n",
       "\t<tr><th></th><th scope=col>state</th><th scope=col>year</th><th scope=col>price</th><th scope=col>pop</th><th scope=col>pop16</th><th scope=col>cpi</th><th scope=col>ndi</th><th scope=col>sales</th><th scope=col>pimin</th><th scope=col>log_price</th><th scope=col>log_pop</th><th scope=col>log_pop16</th><th scope=col>log_cpi</th><th scope=col>log_ndi</th><th scope=col>log_sales</th><th scope=col>log_pimin</th></tr>\n",
       "\t<tr><th></th><th scope=col>&lt;int&gt;</th><th scope=col>&lt;int&gt;</th><th scope=col>&lt;dbl&gt;</th><th scope=col>&lt;dbl&gt;</th><th scope=col>&lt;dbl&gt;</th><th scope=col>&lt;dbl&gt;</th><th scope=col>&lt;dbl&gt;</th><th scope=col>&lt;dbl&gt;</th><th scope=col>&lt;dbl&gt;</th><th scope=col>&lt;dbl&gt;</th><th scope=col>&lt;dbl&gt;</th><th scope=col>&lt;dbl&gt;</th><th scope=col>&lt;dbl&gt;</th><th scope=col>&lt;dbl&gt;</th><th scope=col>&lt;dbl&gt;</th><th scope=col>&lt;dbl&gt;</th></tr>\n",
       "</thead>\n",
       "<tbody>\n",
       "\t<tr><th scope=row>1</th><td>1</td><td>63</td><td>28.6</td><td>3383</td><td>2236.5</td><td>30.6</td><td>1558.305</td><td>93.9</td><td>26.1</td><td>3.353407</td><td>8.126518</td><td>7.712667</td><td>3.421000</td><td>7.351354</td><td>4.542230</td><td>3.261935</td></tr>\n",
       "\t<tr><th scope=row>2</th><td>1</td><td>64</td><td>29.8</td><td>3431</td><td>2276.7</td><td>31.0</td><td>1684.073</td><td>95.4</td><td>27.5</td><td>3.394508</td><td>8.140607</td><td>7.730482</td><td>3.433987</td><td>7.428971</td><td>4.558079</td><td>3.314186</td></tr>\n",
       "\t<tr><th scope=row>3</th><td>1</td><td>65</td><td>29.8</td><td>3486</td><td>2327.5</td><td>31.5</td><td>1809.842</td><td>98.5</td><td>28.9</td><td>3.394508</td><td>8.156510</td><td>7.752550</td><td>3.449988</td><td>7.500995</td><td>4.590057</td><td>3.363842</td></tr>\n",
       "\t<tr><th scope=row>4</th><td>1</td><td>66</td><td>31.5</td><td>3524</td><td>2369.7</td><td>32.4</td><td>1915.160</td><td>96.4</td><td>29.5</td><td>3.449988</td><td>8.167352</td><td>7.770519</td><td>3.478158</td><td>7.557557</td><td>4.568506</td><td>3.384390</td></tr>\n",
       "\t<tr><th scope=row>5</th><td>1</td><td>67</td><td>31.6</td><td>3533</td><td>2393.7</td><td>33.4</td><td>2023.546</td><td>95.5</td><td>29.6</td><td>3.453157</td><td>8.169903</td><td>7.780596</td><td>3.508556</td><td>7.612607</td><td>4.559126</td><td>3.387774</td></tr>\n",
       "\t<tr><th scope=row>6</th><td>1</td><td>68</td><td>35.6</td><td>3522</td><td>2405.2</td><td>34.8</td><td>2202.486</td><td>88.4</td><td>32.0</td><td>3.572346</td><td>8.166784</td><td>7.785388</td><td>3.549617</td><td>7.697342</td><td>4.481872</td><td>3.465736</td></tr>\n",
       "</tbody>\n",
       "</table>\n"
      ],
      "text/latex": [
       "A data.frame: 6 × 16\n",
       "\\begin{tabular}{r|llllllllllllllll}\n",
       "  & state & year & price & pop & pop16 & cpi & ndi & sales & pimin & log\\_price & log\\_pop & log\\_pop16 & log\\_cpi & log\\_ndi & log\\_sales & log\\_pimin\\\\\n",
       "  & <int> & <int> & <dbl> & <dbl> & <dbl> & <dbl> & <dbl> & <dbl> & <dbl> & <dbl> & <dbl> & <dbl> & <dbl> & <dbl> & <dbl> & <dbl>\\\\\n",
       "\\hline\n",
       "\t1 & 1 & 63 & 28.6 & 3383 & 2236.5 & 30.6 & 1558.305 & 93.9 & 26.1 & 3.353407 & 8.126518 & 7.712667 & 3.421000 & 7.351354 & 4.542230 & 3.261935\\\\\n",
       "\t2 & 1 & 64 & 29.8 & 3431 & 2276.7 & 31.0 & 1684.073 & 95.4 & 27.5 & 3.394508 & 8.140607 & 7.730482 & 3.433987 & 7.428971 & 4.558079 & 3.314186\\\\\n",
       "\t3 & 1 & 65 & 29.8 & 3486 & 2327.5 & 31.5 & 1809.842 & 98.5 & 28.9 & 3.394508 & 8.156510 & 7.752550 & 3.449988 & 7.500995 & 4.590057 & 3.363842\\\\\n",
       "\t4 & 1 & 66 & 31.5 & 3524 & 2369.7 & 32.4 & 1915.160 & 96.4 & 29.5 & 3.449988 & 8.167352 & 7.770519 & 3.478158 & 7.557557 & 4.568506 & 3.384390\\\\\n",
       "\t5 & 1 & 67 & 31.6 & 3533 & 2393.7 & 33.4 & 2023.546 & 95.5 & 29.6 & 3.453157 & 8.169903 & 7.780596 & 3.508556 & 7.612607 & 4.559126 & 3.387774\\\\\n",
       "\t6 & 1 & 68 & 35.6 & 3522 & 2405.2 & 34.8 & 2202.486 & 88.4 & 32.0 & 3.572346 & 8.166784 & 7.785388 & 3.549617 & 7.697342 & 4.481872 & 3.465736\\\\\n",
       "\\end{tabular}\n"
      ],
      "text/markdown": [
       "\n",
       "A data.frame: 6 × 16\n",
       "\n",
       "| <!--/--> | state &lt;int&gt; | year &lt;int&gt; | price &lt;dbl&gt; | pop &lt;dbl&gt; | pop16 &lt;dbl&gt; | cpi &lt;dbl&gt; | ndi &lt;dbl&gt; | sales &lt;dbl&gt; | pimin &lt;dbl&gt; | log_price &lt;dbl&gt; | log_pop &lt;dbl&gt; | log_pop16 &lt;dbl&gt; | log_cpi &lt;dbl&gt; | log_ndi &lt;dbl&gt; | log_sales &lt;dbl&gt; | log_pimin &lt;dbl&gt; |\n",
       "|---|---|---|---|---|---|---|---|---|---|---|---|---|---|---|---|---|\n",
       "| 1 | 1 | 63 | 28.6 | 3383 | 2236.5 | 30.6 | 1558.305 | 93.9 | 26.1 | 3.353407 | 8.126518 | 7.712667 | 3.421000 | 7.351354 | 4.542230 | 3.261935 |\n",
       "| 2 | 1 | 64 | 29.8 | 3431 | 2276.7 | 31.0 | 1684.073 | 95.4 | 27.5 | 3.394508 | 8.140607 | 7.730482 | 3.433987 | 7.428971 | 4.558079 | 3.314186 |\n",
       "| 3 | 1 | 65 | 29.8 | 3486 | 2327.5 | 31.5 | 1809.842 | 98.5 | 28.9 | 3.394508 | 8.156510 | 7.752550 | 3.449988 | 7.500995 | 4.590057 | 3.363842 |\n",
       "| 4 | 1 | 66 | 31.5 | 3524 | 2369.7 | 32.4 | 1915.160 | 96.4 | 29.5 | 3.449988 | 8.167352 | 7.770519 | 3.478158 | 7.557557 | 4.568506 | 3.384390 |\n",
       "| 5 | 1 | 67 | 31.6 | 3533 | 2393.7 | 33.4 | 2023.546 | 95.5 | 29.6 | 3.453157 | 8.169903 | 7.780596 | 3.508556 | 7.612607 | 4.559126 | 3.387774 |\n",
       "| 6 | 1 | 68 | 35.6 | 3522 | 2405.2 | 34.8 | 2202.486 | 88.4 | 32.0 | 3.572346 | 8.166784 | 7.785388 | 3.549617 | 7.697342 | 4.481872 | 3.465736 |\n",
       "\n"
      ],
      "text/plain": [
       "  state year price pop  pop16  cpi  ndi      sales pimin log_price log_pop \n",
       "1 1     63   28.6  3383 2236.5 30.6 1558.305 93.9  26.1  3.353407  8.126518\n",
       "2 1     64   29.8  3431 2276.7 31.0 1684.073 95.4  27.5  3.394508  8.140607\n",
       "3 1     65   29.8  3486 2327.5 31.5 1809.842 98.5  28.9  3.394508  8.156510\n",
       "4 1     66   31.5  3524 2369.7 32.4 1915.160 96.4  29.5  3.449988  8.167352\n",
       "5 1     67   31.6  3533 2393.7 33.4 2023.546 95.5  29.6  3.453157  8.169903\n",
       "6 1     68   35.6  3522 2405.2 34.8 2202.486 88.4  32.0  3.572346  8.166784\n",
       "  log_pop16 log_cpi  log_ndi  log_sales log_pimin\n",
       "1 7.712667  3.421000 7.351354 4.542230  3.261935 \n",
       "2 7.730482  3.433987 7.428971 4.558079  3.314186 \n",
       "3 7.752550  3.449988 7.500995 4.590057  3.363842 \n",
       "4 7.770519  3.478158 7.557557 4.568506  3.384390 \n",
       "5 7.780596  3.508556 7.612607 4.559126  3.387774 \n",
       "6 7.785388  3.549617 7.697342 4.481872  3.465736 "
      ]
     },
     "metadata": {},
     "output_type": "display_data"
    }
   ],
   "source": [
    "# 1.1. Upload data  \n",
    "data(\"Cigar\", package = \"panelvar\")\n",
    "head(Cigar)"
   ]
  },
  {
   "cell_type": "code",
   "execution_count": 11,
   "metadata": {},
   "outputs": [
    {
     "data": {
      "text/plain": [
       "     state            year          price             pop       \n",
       " Min.   : 1.00   Min.   :63.0   Min.   : 23.40   Min.   :  319  \n",
       " 1st Qu.:15.00   1st Qu.:70.0   1st Qu.: 34.77   1st Qu.: 1053  \n",
       " Median :26.50   Median :77.5   Median : 52.30   Median : 3174  \n",
       " Mean   :26.83   Mean   :77.5   Mean   : 68.70   Mean   : 4537  \n",
       " 3rd Qu.:40.00   3rd Qu.:85.0   3rd Qu.: 98.10   3rd Qu.: 5280  \n",
       " Max.   :51.00   Max.   :92.0   Max.   :201.90   Max.   :30703  \n",
       "     pop16              cpi             ndi            sales      \n",
       " Min.   :  215.2   Min.   : 30.6   Min.   : 1323   Min.   : 53.4  \n",
       " 1st Qu.:  781.2   1st Qu.: 38.8   1st Qu.: 3328   1st Qu.:107.9  \n",
       " Median : 2315.3   Median : 62.9   Median : 6281   Median :121.2  \n",
       " Mean   : 3366.6   Mean   : 73.6   Mean   : 7525   Mean   :124.0  \n",
       " 3rd Qu.: 3914.3   3rd Qu.:107.6   3rd Qu.:11024   3rd Qu.:133.2  \n",
       " Max.   :22920.0   Max.   :140.3   Max.   :23074   Max.   :297.9  \n",
       "     pimin          log_price        log_pop         log_pop16     \n",
       " Min.   : 23.40   Min.   :3.153   Min.   : 5.765   Min.   : 5.372  \n",
       " 1st Qu.: 31.98   1st Qu.:3.549   1st Qu.: 6.959   1st Qu.: 6.661  \n",
       " Median : 46.40   Median :3.957   Median : 8.063   Median : 7.747  \n",
       " Mean   : 62.90   Mean   :4.060   Mean   : 7.921   Mean   : 7.610  \n",
       " 3rd Qu.: 90.50   3rd Qu.:4.586   3rd Qu.: 8.572   3rd Qu.: 8.272  \n",
       " Max.   :178.50   Max.   :5.308   Max.   :10.332   Max.   :10.040  \n",
       "    log_cpi         log_ndi         log_sales       log_pimin    \n",
       " Min.   :3.421   Min.   : 7.187   Min.   :3.978   Min.   :3.153  \n",
       " 1st Qu.:3.658   1st Qu.: 8.110   1st Qu.:4.681   1st Qu.:3.465  \n",
       " Median :4.141   Median : 8.745   Median :4.797   Median :3.837  \n",
       " Mean   :4.166   Mean   : 8.712   Mean   :4.793   Mean   :3.972  \n",
       " 3rd Qu.:4.678   3rd Qu.: 9.308   3rd Qu.:4.892   3rd Qu.:4.505  \n",
       " Max.   :4.944   Max.   :10.046   Max.   :5.697   Max.   :5.185  "
      ]
     },
     "metadata": {},
     "output_type": "display_data"
    },
    {
     "data": {
      "text/html": [
       "1380"
      ],
      "text/latex": [
       "1380"
      ],
      "text/markdown": [
       "1380"
      ],
      "text/plain": [
       "[1] 1380"
      ]
     },
     "metadata": {},
     "output_type": "display_data"
    },
    {
     "data": {
      "text/html": [
       "1380"
      ],
      "text/latex": [
       "1380"
      ],
      "text/markdown": [
       "1380"
      ],
      "text/plain": [
       "[1] 1380"
      ]
     },
     "metadata": {},
     "output_type": "display_data"
    }
   ],
   "source": [
    "# 1.1. Data exploration\n",
    "# 1.1.1 Size or amount of data\n",
    "summary(Cigar)\n",
    "nrow(Cigar)\n",
    "# 1.1.2 Completeness of the data\n",
    "NROW(na.omit(Cigar))\n",
    "# 1.1.3 Correctness of the data\n",
    "#We do not have much info about this so we can \n",
    "#assume data is correct and no measurement error on the variables\n"
   ]
  },
  {
   "cell_type": "code",
   "execution_count": 12,
   "metadata": {},
   "outputs": [],
   "source": [
    "N=10\n",
    "T=20"
   ]
  },
  {
   "cell_type": "code",
   "execution_count": 13,
   "metadata": {},
   "outputs": [
    {
     "name": "stderr",
     "output_type": "stream",
     "text": [
      "Warning message in plot.window(...):\n",
      "\"\"reg.line\" is not a graphical parameter\"\n",
      "Warning message in plot.xy(xy, type, ...):\n",
      "\"\"reg.line\" is not a graphical parameter\"\n",
      "Warning message in axis(side = side, at = at, labels = labels, ...):\n",
      "\"\"reg.line\" is not a graphical parameter\"\n",
      "Warning message in axis(side = side, at = at, labels = labels, ...):\n",
      "\"\"reg.line\" is not a graphical parameter\"\n",
      "Warning message in box(...):\n",
      "\"\"reg.line\" is not a graphical parameter\"\n",
      "Warning message in title(...):\n",
      "\"\"reg.line\" is not a graphical parameter\"\n",
      "Warning message in scatterplot.default(X[, 2], X[, 1], groups = X[, 3], xlab = xlab, :\n",
      "\"number of groups exceeds number of available colors\n",
      "  colors are recycled\"\n",
      "Warning message in plot.xy(xy.coords(x, y), type = type, ...):\n",
      "\"unimplemented pch value '26'\"\n",
      "Warning message in plot.xy(xy.coords(x, y), type = type, ...):\n",
      "\"unimplemented pch value '26'\"\n",
      "Warning message in plot.xy(xy.coords(x, y), type = type, ...):\n",
      "\"unimplemented pch value '26'\"\n",
      "Warning message in plot.xy(xy.coords(x, y), type = type, ...):\n",
      "\"unimplemented pch value '26'\"\n",
      "Warning message in plot.xy(xy.coords(x, y), type = type, ...):\n",
      "\"unimplemented pch value '26'\"\n",
      "Warning message in plot.xy(xy.coords(x, y), type = type, ...):\n",
      "\"unimplemented pch value '26'\"\n",
      "Warning message in plot.xy(xy.coords(x, y), type = type, ...):\n",
      "\"unimplemented pch value '26'\"\n",
      "Warning message in plot.xy(xy.coords(x, y), type = type, ...):\n",
      "\"unimplemented pch value '26'\"\n",
      "Warning message in plot.xy(xy.coords(x, y), type = type, ...):\n",
      "\"unimplemented pch value '26'\"\n",
      "Warning message in plot.xy(xy.coords(x, y), type = type, ...):\n",
      "\"unimplemented pch value '26'\"\n",
      "Warning message in plot.xy(xy.coords(x, y), type = type, ...):\n",
      "\"unimplemented pch value '26'\"\n",
      "Warning message in plot.xy(xy.coords(x, y), type = type, ...):\n",
      "\"unimplemented pch value '26'\"\n",
      "Warning message in plot.xy(xy.coords(x, y), type = type, ...):\n",
      "\"unimplemented pch value '26'\"\n",
      "Warning message in plot.xy(xy.coords(x, y), type = type, ...):\n",
      "\"unimplemented pch value '26'\"\n",
      "Warning message in plot.xy(xy.coords(x, y), type = type, ...):\n",
      "\"unimplemented pch value '26'\"\n",
      "Warning message in plot.xy(xy.coords(x, y), type = type, ...):\n",
      "\"unimplemented pch value '26'\"\n",
      "Warning message in plot.xy(xy.coords(x, y), type = type, ...):\n",
      "\"unimplemented pch value '26'\"\n",
      "Warning message in plot.xy(xy.coords(x, y), type = type, ...):\n",
      "\"unimplemented pch value '26'\"\n",
      "Warning message in plot.xy(xy.coords(x, y), type = type, ...):\n",
      "\"unimplemented pch value '26'\"\n",
      "Warning message in plot.xy(xy.coords(x, y), type = type, ...):\n",
      "\"unimplemented pch value '26'\"\n",
      "Warning message in plot.xy(xy.coords(x, y), type = type, ...):\n",
      "\"unimplemented pch value '26'\"\n",
      "Warning message in plot.xy(xy.coords(x, y), type = type, ...):\n",
      "\"unimplemented pch value '26'\"\n",
      "Warning message in plot.xy(xy.coords(x, y), type = type, ...):\n",
      "\"unimplemented pch value '26'\"\n",
      "Warning message in plot.xy(xy.coords(x, y), type = type, ...):\n",
      "\"unimplemented pch value '26'\"\n",
      "Warning message in plot.xy(xy.coords(x, y), type = type, ...):\n",
      "\"unimplemented pch value '26'\"\n",
      "Warning message in plot.xy(xy.coords(x, y), type = type, ...):\n",
      "\"unimplemented pch value '26'\"\n",
      "Warning message in plot.xy(xy.coords(x, y), type = type, ...):\n",
      "\"unimplemented pch value '26'\"\n",
      "Warning message in plot.xy(xy.coords(x, y), type = type, ...):\n",
      "\"unimplemented pch value '26'\"\n",
      "Warning message in plot.xy(xy.coords(x, y), type = type, ...):\n",
      "\"unimplemented pch value '26'\"\n",
      "Warning message in plot.xy(xy.coords(x, y), type = type, ...):\n",
      "\"unimplemented pch value '26'\"\n",
      "Warning message in plot.xy(xy.coords(x, y), type = type, ...):\n",
      "\"unimplemented pch value '27'\"\n",
      "Warning message in plot.xy(xy.coords(x, y), type = type, ...):\n",
      "\"unimplemented pch value '27'\"\n",
      "Warning message in plot.xy(xy.coords(x, y), type = type, ...):\n",
      "\"unimplemented pch value '27'\"\n",
      "Warning message in plot.xy(xy.coords(x, y), type = type, ...):\n",
      "\"unimplemented pch value '27'\"\n",
      "Warning message in plot.xy(xy.coords(x, y), type = type, ...):\n",
      "\"unimplemented pch value '27'\"\n",
      "Warning message in plot.xy(xy.coords(x, y), type = type, ...):\n",
      "\"unimplemented pch value '27'\"\n",
      "Warning message in plot.xy(xy.coords(x, y), type = type, ...):\n",
      "\"unimplemented pch value '27'\"\n",
      "Warning message in plot.xy(xy.coords(x, y), type = type, ...):\n",
      "\"unimplemented pch value '27'\"\n",
      "Warning message in plot.xy(xy.coords(x, y), type = type, ...):\n",
      "\"unimplemented pch value '27'\"\n",
      "Warning message in plot.xy(xy.coords(x, y), type = type, ...):\n",
      "\"unimplemented pch value '27'\"\n",
      "Warning message in plot.xy(xy.coords(x, y), type = type, ...):\n",
      "\"unimplemented pch value '27'\"\n",
      "Warning message in plot.xy(xy.coords(x, y), type = type, ...):\n",
      "\"unimplemented pch value '27'\"\n",
      "Warning message in plot.xy(xy.coords(x, y), type = type, ...):\n",
      "\"unimplemented pch value '27'\"\n",
      "Warning message in plot.xy(xy.coords(x, y), type = type, ...):\n",
      "\"unimplemented pch value '27'\"\n",
      "Warning message in plot.xy(xy.coords(x, y), type = type, ...):\n",
      "\"unimplemented pch value '27'\"\n",
      "Warning message in plot.xy(xy.coords(x, y), type = type, ...):\n",
      "\"unimplemented pch value '27'\"\n",
      "Warning message in plot.xy(xy.coords(x, y), type = type, ...):\n",
      "\"unimplemented pch value '27'\"\n",
      "Warning message in plot.xy(xy.coords(x, y), type = type, ...):\n",
      "\"unimplemented pch value '27'\"\n",
      "Warning message in plot.xy(xy.coords(x, y), type = type, ...):\n",
      "\"unimplemented pch value '27'\"\n",
      "Warning message in plot.xy(xy.coords(x, y), type = type, ...):\n",
      "\"unimplemented pch value '27'\"\n",
      "Warning message in plot.xy(xy.coords(x, y), type = type, ...):\n",
      "\"unimplemented pch value '27'\"\n",
      "Warning message in plot.xy(xy.coords(x, y), type = type, ...):\n",
      "\"unimplemented pch value '27'\"\n",
      "Warning message in plot.xy(xy.coords(x, y), type = type, ...):\n",
      "\"unimplemented pch value '27'\"\n",
      "Warning message in plot.xy(xy.coords(x, y), type = type, ...):\n",
      "\"unimplemented pch value '27'\"\n",
      "Warning message in plot.xy(xy.coords(x, y), type = type, ...):\n",
      "\"unimplemented pch value '27'\"\n",
      "Warning message in plot.xy(xy.coords(x, y), type = type, ...):\n",
      "\"unimplemented pch value '27'\"\n",
      "Warning message in plot.xy(xy.coords(x, y), type = type, ...):\n",
      "\"unimplemented pch value '27'\"\n",
      "Warning message in plot.xy(xy.coords(x, y), type = type, ...):\n",
      "\"unimplemented pch value '27'\"\n",
      "Warning message in plot.xy(xy.coords(x, y), type = type, ...):\n",
      "\"unimplemented pch value '27'\"\n",
      "Warning message in plot.xy(xy.coords(x, y), type = type, ...):\n",
      "\"unimplemented pch value '27'\"\n",
      "Warning message in plot.xy(xy.coords(x, y), type = type, ...):\n",
      "\"unimplemented pch value '28'\"\n",
      "Warning message in plot.xy(xy.coords(x, y), type = type, ...):\n",
      "\"unimplemented pch value '28'\"\n",
      "Warning message in plot.xy(xy.coords(x, y), type = type, ...):\n",
      "\"unimplemented pch value '28'\"\n",
      "Warning message in plot.xy(xy.coords(x, y), type = type, ...):\n",
      "\"unimplemented pch value '28'\"\n",
      "Warning message in plot.xy(xy.coords(x, y), type = type, ...):\n",
      "\"unimplemented pch value '28'\"\n",
      "Warning message in plot.xy(xy.coords(x, y), type = type, ...):\n",
      "\"unimplemented pch value '28'\"\n",
      "Warning message in plot.xy(xy.coords(x, y), type = type, ...):\n",
      "\"unimplemented pch value '28'\"\n",
      "Warning message in plot.xy(xy.coords(x, y), type = type, ...):\n",
      "\"unimplemented pch value '28'\"\n",
      "Warning message in plot.xy(xy.coords(x, y), type = type, ...):\n",
      "\"unimplemented pch value '28'\"\n",
      "Warning message in plot.xy(xy.coords(x, y), type = type, ...):\n",
      "\"unimplemented pch value '28'\"\n",
      "Warning message in plot.xy(xy.coords(x, y), type = type, ...):\n",
      "\"unimplemented pch value '28'\"\n",
      "Warning message in plot.xy(xy.coords(x, y), type = type, ...):\n",
      "\"unimplemented pch value '28'\"\n",
      "Warning message in plot.xy(xy.coords(x, y), type = type, ...):\n",
      "\"unimplemented pch value '28'\"\n",
      "Warning message in plot.xy(xy.coords(x, y), type = type, ...):\n",
      "\"unimplemented pch value '28'\"\n",
      "Warning message in plot.xy(xy.coords(x, y), type = type, ...):\n",
      "\"unimplemented pch value '28'\"\n",
      "Warning message in plot.xy(xy.coords(x, y), type = type, ...):\n",
      "\"unimplemented pch value '28'\"\n",
      "Warning message in plot.xy(xy.coords(x, y), type = type, ...):\n",
      "\"unimplemented pch value '28'\"\n",
      "Warning message in plot.xy(xy.coords(x, y), type = type, ...):\n",
      "\"unimplemented pch value '28'\"\n",
      "Warning message in plot.xy(xy.coords(x, y), type = type, ...):\n",
      "\"unimplemented pch value '28'\"\n",
      "Warning message in plot.xy(xy.coords(x, y), type = type, ...):\n",
      "\"unimplemented pch value '28'\"\n"
     ]
    },
    {
     "name": "stderr",
     "output_type": "stream",
     "text": [
      "Warning message in plot.xy(xy.coords(x, y), type = type, ...):\n",
      "\"unimplemented pch value '28'\"\n",
      "Warning message in plot.xy(xy.coords(x, y), type = type, ...):\n",
      "\"unimplemented pch value '28'\"\n",
      "Warning message in plot.xy(xy.coords(x, y), type = type, ...):\n",
      "\"unimplemented pch value '28'\"\n",
      "Warning message in plot.xy(xy.coords(x, y), type = type, ...):\n",
      "\"unimplemented pch value '28'\"\n",
      "Warning message in plot.xy(xy.coords(x, y), type = type, ...):\n",
      "\"unimplemented pch value '28'\"\n",
      "Warning message in plot.xy(xy.coords(x, y), type = type, ...):\n",
      "\"unimplemented pch value '28'\"\n",
      "Warning message in plot.xy(xy.coords(x, y), type = type, ...):\n",
      "\"unimplemented pch value '28'\"\n",
      "Warning message in plot.xy(xy.coords(x, y), type = type, ...):\n",
      "\"unimplemented pch value '28'\"\n",
      "Warning message in plot.xy(xy.coords(x, y), type = type, ...):\n",
      "\"unimplemented pch value '28'\"\n",
      "Warning message in plot.xy(xy.coords(x, y), type = type, ...):\n",
      "\"unimplemented pch value '28'\"\n",
      "Warning message in plot.xy(xy.coords(x, y), type = type, ...):\n",
      "\"unimplemented pch value '29'\"\n",
      "Warning message in plot.xy(xy.coords(x, y), type = type, ...):\n",
      "\"unimplemented pch value '29'\"\n",
      "Warning message in plot.xy(xy.coords(x, y), type = type, ...):\n",
      "\"unimplemented pch value '29'\"\n",
      "Warning message in plot.xy(xy.coords(x, y), type = type, ...):\n",
      "\"unimplemented pch value '29'\"\n",
      "Warning message in plot.xy(xy.coords(x, y), type = type, ...):\n",
      "\"unimplemented pch value '29'\"\n",
      "Warning message in plot.xy(xy.coords(x, y), type = type, ...):\n",
      "\"unimplemented pch value '29'\"\n",
      "Warning message in plot.xy(xy.coords(x, y), type = type, ...):\n",
      "\"unimplemented pch value '29'\"\n",
      "Warning message in plot.xy(xy.coords(x, y), type = type, ...):\n",
      "\"unimplemented pch value '29'\"\n",
      "Warning message in plot.xy(xy.coords(x, y), type = type, ...):\n",
      "\"unimplemented pch value '29'\"\n",
      "Warning message in plot.xy(xy.coords(x, y), type = type, ...):\n",
      "\"unimplemented pch value '29'\"\n",
      "Warning message in plot.xy(xy.coords(x, y), type = type, ...):\n",
      "\"unimplemented pch value '29'\"\n",
      "Warning message in plot.xy(xy.coords(x, y), type = type, ...):\n",
      "\"unimplemented pch value '29'\"\n",
      "Warning message in plot.xy(xy.coords(x, y), type = type, ...):\n",
      "\"unimplemented pch value '29'\"\n",
      "Warning message in plot.xy(xy.coords(x, y), type = type, ...):\n",
      "\"unimplemented pch value '29'\"\n",
      "Warning message in plot.xy(xy.coords(x, y), type = type, ...):\n",
      "\"unimplemented pch value '29'\"\n",
      "Warning message in plot.xy(xy.coords(x, y), type = type, ...):\n",
      "\"unimplemented pch value '29'\"\n",
      "Warning message in plot.xy(xy.coords(x, y), type = type, ...):\n",
      "\"unimplemented pch value '29'\"\n",
      "Warning message in plot.xy(xy.coords(x, y), type = type, ...):\n",
      "\"unimplemented pch value '29'\"\n",
      "Warning message in plot.xy(xy.coords(x, y), type = type, ...):\n",
      "\"unimplemented pch value '29'\"\n",
      "Warning message in plot.xy(xy.coords(x, y), type = type, ...):\n",
      "\"unimplemented pch value '29'\"\n",
      "Warning message in plot.xy(xy.coords(x, y), type = type, ...):\n",
      "\"unimplemented pch value '29'\"\n",
      "Warning message in plot.xy(xy.coords(x, y), type = type, ...):\n",
      "\"unimplemented pch value '29'\"\n",
      "Warning message in plot.xy(xy.coords(x, y), type = type, ...):\n",
      "\"unimplemented pch value '29'\"\n",
      "Warning message in plot.xy(xy.coords(x, y), type = type, ...):\n",
      "\"unimplemented pch value '29'\"\n",
      "Warning message in plot.xy(xy.coords(x, y), type = type, ...):\n",
      "\"unimplemented pch value '29'\"\n",
      "Warning message in plot.xy(xy.coords(x, y), type = type, ...):\n",
      "\"unimplemented pch value '29'\"\n",
      "Warning message in plot.xy(xy.coords(x, y), type = type, ...):\n",
      "\"unimplemented pch value '29'\"\n",
      "Warning message in plot.xy(xy.coords(x, y), type = type, ...):\n",
      "\"unimplemented pch value '29'\"\n",
      "Warning message in plot.xy(xy.coords(x, y), type = type, ...):\n",
      "\"unimplemented pch value '29'\"\n",
      "Warning message in plot.xy(xy.coords(x, y), type = type, ...):\n",
      "\"unimplemented pch value '29'\"\n",
      "Warning message in plot.xy(xy.coords(x, y), type = type, ...):\n",
      "\"unimplemented pch value '30'\"\n",
      "Warning message in plot.xy(xy.coords(x, y), type = type, ...):\n",
      "\"unimplemented pch value '30'\"\n",
      "Warning message in plot.xy(xy.coords(x, y), type = type, ...):\n",
      "\"unimplemented pch value '30'\"\n",
      "Warning message in plot.xy(xy.coords(x, y), type = type, ...):\n",
      "\"unimplemented pch value '30'\"\n",
      "Warning message in plot.xy(xy.coords(x, y), type = type, ...):\n",
      "\"unimplemented pch value '30'\"\n",
      "Warning message in plot.xy(xy.coords(x, y), type = type, ...):\n",
      "\"unimplemented pch value '30'\"\n",
      "Warning message in plot.xy(xy.coords(x, y), type = type, ...):\n",
      "\"unimplemented pch value '30'\"\n",
      "Warning message in plot.xy(xy.coords(x, y), type = type, ...):\n",
      "\"unimplemented pch value '30'\"\n",
      "Warning message in plot.xy(xy.coords(x, y), type = type, ...):\n",
      "\"unimplemented pch value '30'\"\n",
      "Warning message in plot.xy(xy.coords(x, y), type = type, ...):\n",
      "\"unimplemented pch value '30'\"\n",
      "Warning message in plot.xy(xy.coords(x, y), type = type, ...):\n",
      "\"unimplemented pch value '30'\"\n",
      "Warning message in plot.xy(xy.coords(x, y), type = type, ...):\n",
      "\"unimplemented pch value '30'\"\n",
      "Warning message in plot.xy(xy.coords(x, y), type = type, ...):\n",
      "\"unimplemented pch value '30'\"\n",
      "Warning message in plot.xy(xy.coords(x, y), type = type, ...):\n",
      "\"unimplemented pch value '30'\"\n",
      "Warning message in plot.xy(xy.coords(x, y), type = type, ...):\n",
      "\"unimplemented pch value '30'\"\n",
      "Warning message in plot.xy(xy.coords(x, y), type = type, ...):\n",
      "\"unimplemented pch value '30'\"\n",
      "Warning message in plot.xy(xy.coords(x, y), type = type, ...):\n",
      "\"unimplemented pch value '30'\"\n",
      "Warning message in plot.xy(xy.coords(x, y), type = type, ...):\n",
      "\"unimplemented pch value '30'\"\n",
      "Warning message in plot.xy(xy.coords(x, y), type = type, ...):\n",
      "\"unimplemented pch value '30'\"\n",
      "Warning message in plot.xy(xy.coords(x, y), type = type, ...):\n",
      "\"unimplemented pch value '30'\"\n",
      "Warning message in plot.xy(xy.coords(x, y), type = type, ...):\n",
      "\"unimplemented pch value '30'\"\n",
      "Warning message in plot.xy(xy.coords(x, y), type = type, ...):\n",
      "\"unimplemented pch value '30'\"\n",
      "Warning message in plot.xy(xy.coords(x, y), type = type, ...):\n",
      "\"unimplemented pch value '30'\"\n",
      "Warning message in plot.xy(xy.coords(x, y), type = type, ...):\n",
      "\"unimplemented pch value '30'\"\n",
      "Warning message in plot.xy(xy.coords(x, y), type = type, ...):\n",
      "\"unimplemented pch value '30'\"\n",
      "Warning message in plot.xy(xy.coords(x, y), type = type, ...):\n",
      "\"unimplemented pch value '30'\"\n",
      "Warning message in plot.xy(xy.coords(x, y), type = type, ...):\n",
      "\"unimplemented pch value '30'\"\n",
      "Warning message in plot.xy(xy.coords(x, y), type = type, ...):\n",
      "\"unimplemented pch value '30'\"\n",
      "Warning message in plot.xy(xy.coords(x, y), type = type, ...):\n",
      "\"unimplemented pch value '30'\"\n",
      "Warning message in plot.xy(xy.coords(x, y), type = type, ...):\n",
      "\"unimplemented pch value '30'\"\n",
      "Warning message in plot.xy(xy.coords(x, y), type = type, ...):\n",
      "\"unimplemented pch value '31'\"\n",
      "Warning message in plot.xy(xy.coords(x, y), type = type, ...):\n",
      "\"unimplemented pch value '31'\"\n",
      "Warning message in plot.xy(xy.coords(x, y), type = type, ...):\n",
      "\"unimplemented pch value '31'\"\n",
      "Warning message in plot.xy(xy.coords(x, y), type = type, ...):\n",
      "\"unimplemented pch value '31'\"\n",
      "Warning message in plot.xy(xy.coords(x, y), type = type, ...):\n",
      "\"unimplemented pch value '31'\"\n",
      "Warning message in plot.xy(xy.coords(x, y), type = type, ...):\n",
      "\"unimplemented pch value '31'\"\n",
      "Warning message in plot.xy(xy.coords(x, y), type = type, ...):\n",
      "\"unimplemented pch value '31'\"\n",
      "Warning message in plot.xy(xy.coords(x, y), type = type, ...):\n",
      "\"unimplemented pch value '31'\"\n",
      "Warning message in plot.xy(xy.coords(x, y), type = type, ...):\n",
      "\"unimplemented pch value '31'\"\n",
      "Warning message in plot.xy(xy.coords(x, y), type = type, ...):\n",
      "\"unimplemented pch value '31'\"\n",
      "Warning message in plot.xy(xy.coords(x, y), type = type, ...):\n",
      "\"unimplemented pch value '31'\"\n",
      "Warning message in plot.xy(xy.coords(x, y), type = type, ...):\n",
      "\"unimplemented pch value '31'\"\n",
      "Warning message in plot.xy(xy.coords(x, y), type = type, ...):\n",
      "\"unimplemented pch value '31'\"\n",
      "Warning message in plot.xy(xy.coords(x, y), type = type, ...):\n",
      "\"unimplemented pch value '31'\"\n",
      "Warning message in plot.xy(xy.coords(x, y), type = type, ...):\n",
      "\"unimplemented pch value '31'\"\n",
      "Warning message in plot.xy(xy.coords(x, y), type = type, ...):\n",
      "\"unimplemented pch value '31'\"\n",
      "Warning message in plot.xy(xy.coords(x, y), type = type, ...):\n",
      "\"unimplemented pch value '31'\"\n",
      "Warning message in plot.xy(xy.coords(x, y), type = type, ...):\n",
      "\"unimplemented pch value '31'\"\n"
     ]
    },
    {
     "name": "stderr",
     "output_type": "stream",
     "text": [
      "Warning message in plot.xy(xy.coords(x, y), type = type, ...):\n",
      "\"unimplemented pch value '31'\"\n",
      "Warning message in plot.xy(xy.coords(x, y), type = type, ...):\n",
      "\"unimplemented pch value '31'\"\n",
      "Warning message in plot.xy(xy.coords(x, y), type = type, ...):\n",
      "\"unimplemented pch value '31'\"\n",
      "Warning message in plot.xy(xy.coords(x, y), type = type, ...):\n",
      "\"unimplemented pch value '31'\"\n",
      "Warning message in plot.xy(xy.coords(x, y), type = type, ...):\n",
      "\"unimplemented pch value '31'\"\n",
      "Warning message in plot.xy(xy.coords(x, y), type = type, ...):\n",
      "\"unimplemented pch value '31'\"\n",
      "Warning message in plot.xy(xy.coords(x, y), type = type, ...):\n",
      "\"unimplemented pch value '31'\"\n",
      "Warning message in plot.xy(xy.coords(x, y), type = type, ...):\n",
      "\"unimplemented pch value '31'\"\n",
      "Warning message in plot.xy(xy.coords(x, y), type = type, ...):\n",
      "\"unimplemented pch value '31'\"\n",
      "Warning message in plot.xy(xy.coords(x, y), type = type, ...):\n",
      "\"unimplemented pch value '31'\"\n",
      "Warning message in plot.xy(xy.coords(x, y), type = type, ...):\n",
      "\"unimplemented pch value '31'\"\n",
      "Warning message in plot.xy(xy.coords(x, y), type = type, ...):\n",
      "\"unimplemented pch value '31'\"\n",
      "Warning message in plot.xy(xy.coords(x, y), type = type, ...):\n",
      "\"unimplemented pch value '26'\"\n",
      "Warning message in plot.xy(xy.coords(x, y), type = type, ...):\n",
      "\"unimplemented pch value '27'\"\n",
      "Warning message in plot.xy(xy.coords(x, y), type = type, ...):\n",
      "\"unimplemented pch value '28'\"\n",
      "Warning message in plot.xy(xy.coords(x, y), type = type, ...):\n",
      "\"unimplemented pch value '29'\"\n",
      "Warning message in plot.xy(xy.coords(x, y), type = type, ...):\n",
      "\"unimplemented pch value '30'\"\n",
      "Warning message in plot.xy(xy.coords(x, y), type = type, ...):\n",
      "\"unimplemented pch value '31'\"\n"
     ]
    },
    {
     "data": {
      "image/png": "[encoded data removed]",
      "text/plain": [
       "plot without title"
      ]
     },
     "metadata": {
      "image/png": {
       "height": 420,
       "width": 420
      }
     },
     "output_type": "display_data"
    }
   ],
   "source": [
    "# 1.1.4 Graphical analysis \n",
    "scatterplot(sales~price|state, boxplots=FALSE, smooth=TRUE, reg.line=FALSE, data=Cigar)\n"
   ]
  },
  {
   "cell_type": "code",
   "execution_count": 31,
   "metadata": {},
   "outputs": [
    {
     "data": {
      "text/plain": [
       "Pooling Model\n",
       "\n",
       "Call:\n",
       "plm(formula = log_sales ~ lag(log_sales) + log_price + log_ndi + \n",
       "    log_pimin - 1, data = Cigar, model = \"pooling\", index = c(\"state\", \n",
       "    \"year\"))\n",
       "\n",
       "Balanced Panel: n = 46, T = 29, N = 1334\n",
       "\n",
       "Residuals:\n",
       "     Min.   1st Qu.    Median      Mean   3rd Qu.      Max. \n",
       "-0.201062 -0.019394  0.001716  0.000277  0.024287  0.197012 \n",
       "\n",
       "Coefficients:\n",
       "                 Estimate Std. Error  t-value  Pr(>|t|)    \n",
       "lag(log_sales)  0.9818144  0.0052864 185.7235 < 2.2e-16 ***\n",
       "log_price      -0.0985202  0.0148099  -6.6523 4.204e-11 ***\n",
       "log_ndi         0.0406165  0.0063632   6.3831 2.392e-10 ***\n",
       "log_pimin       0.0315411  0.0123187   2.5604   0.01056 *  \n",
       "---\n",
       "Signif. codes:  0 '***' 0.001 '**' 0.01 '*' 0.05 '.' 0.1 ' ' 1\n",
       "\n",
       "Total Sum of Squares:    67.083\n",
       "Residual Sum of Squares: 2.2968\n",
       "R-Squared:      0.96645\n",
       "Adj. R-Squared: 0.96637\n",
       "F-statistic: 4444930 on 4 and 1330 DF, p-value: < 2.22e-16"
      ]
     },
     "metadata": {},
     "output_type": "display_data"
    }
   ],
   "source": [
    "# 1.2. Data modeling\n",
    "# 1.2.1 Naive pooled OLS\n",
    "ols <-plm(log_sales ~ lag(log_sales)+log_price + log_ndi  +log_pimin - 1 , Cigar,index = c(\"state\", \"year\"),model = \"pooling\")\n",
    "summary(ols)"
   ]
  },
  {
   "cell_type": "markdown",
   "metadata": {},
   "source": [
    "\n",
    "Problems? \n",
    "\n",
    "OLS is incosistent and overestimates the true persistent parameter in an AR(1) model without covariates. When covariates are present, OLS is inconsistent. "
   ]
  },
  {
   "cell_type": "code",
   "execution_count": 21,
   "metadata": {},
   "outputs": [
    {
     "data": {
      "image/png": "[encoded data removed]",
      "text/plain": [
       "plot without title"
      ]
     },
     "metadata": {
      "image/png": {
       "height": 420,
       "width": 420
      }
     },
     "output_type": "display_data"
    }
   ],
   "source": [
    "\n",
    "yhat <- ols$fitted\n",
    "plot(Cigar$log_sales, Cigar$log_price, pch=19, xlab=\"x1\", ylab=\"y\")\n",
    "abline(lm(Cigar$log_sales~Cigar$log_price),lwd=3, col=\"red\")"
   ]
  },
  {
   "cell_type": "markdown",
   "metadata": {},
   "source": [
    "We can see that the fitting of a linear pooling the data might not be the best. "
   ]
  },
  {
   "cell_type": "code",
   "execution_count": 22,
   "metadata": {},
   "outputs": [
    {
     "data": {
      "text/plain": [
       "Twoways effects Random Effect Model \n",
       "   (Wallace-Hussain's transformation)\n",
       "\n",
       "Call:\n",
       "plm(formula = log_sales ~ lag(log_sales) + log_price + log_pimin + \n",
       "    log_ndi, data = Cigar, effect = \"twoways\", model = \"random\", \n",
       "    random.method = \"walhus\", random.dfcor = 3)\n",
       "\n",
       "Balanced Panel: n = 46, T = 29, N = 1334\n",
       "\n",
       "Effects:\n",
       "                    var   std.dev share\n",
       "idiosyncratic 1.337e-03 3.656e-02 0.787\n",
       "individual    8.522e-05 9.231e-03 0.050\n",
       "time          2.771e-04 1.665e-02 0.163\n",
       "theta: 0.4075 (id) 0.6919 (time) 0.3836 (total)\n",
       "\n",
       "Residuals:\n",
       "      Min.    1st Qu.     Median    3rd Qu.       Max. \n",
       "-0.1938375 -0.0169733  0.0021969  0.0182060  0.2140031 \n",
       "\n",
       "Coefficients:\n",
       "                 Estimate Std. Error  z-value  Pr(>|z|)    \n",
       "(Intercept)     0.3134730  0.0510376   6.1420 8.149e-10 ***\n",
       "lag(log_sales)  0.9278692  0.0083236 111.4750 < 2.2e-16 ***\n",
       "log_price      -0.1616994  0.0170957  -9.4585 < 2.2e-16 ***\n",
       "log_pimin       0.0809467  0.0149749   5.4055 6.463e-08 ***\n",
       "log_ndi         0.0413538  0.0101216   4.0857 4.394e-05 ***\n",
       "---\n",
       "Signif. codes:  0 '***' 0.001 '**' 0.01 '*' 0.05 '.' 0.1 ' ' 1\n",
       "\n",
       "Total Sum of Squares:    28.047\n",
       "Residual Sum of Squares: 1.7569\n",
       "R-Squared:      0.93736\n",
       "Adj. R-Squared: 0.93717\n",
       "Chisq: 19888 on 4 DF, p-value: < 2.22e-16"
      ]
     },
     "metadata": {},
     "output_type": "display_data"
    }
   ],
   "source": [
    "# 1.2.2 2 Way Random Effects Model \n",
    "re <- plm(log_sales ~ lag(log_sales)+log_price + log_pimin+log_ndi, Cigar, model = \"random\", effect = \"twoways\", \n",
    "           random.method = \"walhus\", random.dfcor = 3)\n",
    "res <- update(re, random.method = \"swar\")\n",
    "rea <- update(re, random.method = \"amemiya\")\n",
    "\n",
    "summary(re)"
   ]
  },
  {
   "cell_type": "markdown",
   "metadata": {},
   "source": [
    "GSLS estimation of the dynamic model still inconsitent. \n"
   ]
  },
  {
   "cell_type": "markdown",
   "metadata": {},
   "source": [
    "Within Estimation"
   ]
  },
  {
   "cell_type": "code",
   "execution_count": 32,
   "metadata": {},
   "outputs": [
    {
     "data": {
      "text/plain": [
       "Twoways effects Within Model\n",
       "\n",
       "Call:\n",
       "plm(formula = log_sales ~ lag(log_sales) + log_price + log_pimin + \n",
       "    log_ndi, data = Cigar, effect = \"twoways\", model = \"within\")\n",
       "\n",
       "Balanced Panel: n = 46, T = 29, N = 1334\n",
       "\n",
       "Residuals:\n",
       "      Min.    1st Qu.     Median    3rd Qu.       Max. \n",
       "-0.1838370 -0.0165617  0.0021857  0.0173721  0.2488126 \n",
       "\n",
       "Coefficients:\n",
       "                Estimate Std. Error  t-value  Pr(>|t|)    \n",
       "lag(log_sales)  0.830251   0.012624  65.7668 < 2.2e-16 ***\n",
       "log_price      -0.291682   0.023085 -12.6353 < 2.2e-16 ***\n",
       "log_pimin       0.035456   0.026560   1.3349    0.1821    \n",
       "log_ndi         0.106870   0.023342   4.5785 5.148e-06 ***\n",
       "---\n",
       "Signif. codes:  0 '***' 0.001 '**' 0.01 '*' 0.05 '.' 0.1 ' ' 1\n",
       "\n",
       "Total Sum of Squares:    11.057\n",
       "Residual Sum of Squares: 1.5428\n",
       "R-Squared:      0.86047\n",
       "Adj. R-Squared: 0.85191\n",
       "F-statistic: 1936.37 on 4 and 1256 DF, p-value: < 2.22e-16"
      ]
     },
     "metadata": {},
     "output_type": "display_data"
    }
   ],
   "source": [
    "# Within Estimation: Another option in R \n",
    "# (Reference for this section: https://www.econometrics-with-r.org/10-3-fixed-effects-regression.html)\n",
    "# install and load the 'plm' package\n",
    "wi <- plm(log_sales ~ lag(log_sales)+log_price + log_pimin+log_ndi, Cigar, model = \"within\", effect = \"twoways\")\n",
    "# estimate the fixed effects regression with plm()\n",
    "\n",
    "summary(wi)"
   ]
  },
  {
   "cell_type": "markdown",
   "metadata": {},
   "source": [
    "Within estimation of the dynamic model still inconsitent. "
   ]
  },
  {
   "cell_type": "code",
   "execution_count": 41,
   "metadata": {},
   "outputs": [
    {
     "data": {
      "text/html": [
       "<table>\n",
       "<caption>A matrix: 2 × 4 of type dbl</caption>\n",
       "<thead>\n",
       "\t<tr><th></th><th scope=col>Estimate</th><th scope=col>Std. Error</th><th scope=col>z-value</th><th scope=col>Pr(&gt;|z|)</th></tr>\n",
       "</thead>\n",
       "<tbody>\n",
       "\t<tr><th scope=row>diff(lag(log_sales))</th><td> 0.1873245</td><td>0.16894414</td><td>  1.108796</td><td>2.675184e-01</td></tr>\n",
       "\t<tr><th scope=row>diff(log_price)</th><td>-0.3688888</td><td>0.02511016</td><td>-14.690818</td><td>7.381685e-49</td></tr>\n",
       "</tbody>\n",
       "</table>\n"
      ],
      "text/latex": [
       "A matrix: 2 × 4 of type dbl\n",
       "\\begin{tabular}{r|llll}\n",
       "  & Estimate & Std. Error & z-value & Pr(>\\textbar{}z\\textbar{})\\\\\n",
       "\\hline\n",
       "\tdiff(lag(log\\_sales)) &  0.1873245 & 0.16894414 &   1.108796 & 2.675184e-01\\\\\n",
       "\tdiff(log\\_price) & -0.3688888 & 0.02511016 & -14.690818 & 7.381685e-49\\\\\n",
       "\\end{tabular}\n"
      ],
      "text/markdown": [
       "\n",
       "A matrix: 2 × 4 of type dbl\n",
       "\n",
       "| <!--/--> | Estimate | Std. Error | z-value | Pr(&gt;|z|) |\n",
       "|---|---|---|---|---|\n",
       "| diff(lag(log_sales)) |  0.1873245 | 0.16894414 |   1.108796 | 2.675184e-01 |\n",
       "| diff(log_price) | -0.3688888 | 0.02511016 | -14.690818 | 7.381685e-49 |\n",
       "\n"
      ],
      "text/plain": [
       "                     Estimate   Std. Error z-value    Pr(>|z|)    \n",
       "diff(lag(log_sales))  0.1873245 0.16894414   1.108796 2.675184e-01\n",
       "diff(log_price)      -0.3688888 0.02511016 -14.690818 7.381685e-49"
      ]
     },
     "metadata": {},
     "output_type": "display_data"
    }
   ],
   "source": [
    "# Anderson Hsiao \n",
    "ahsiao <- plm(diff(log_sales) ̃ diff(lag(log_sales)) +diff(log_price)+diff(log_pimin)+diff(log_ndi) - 1 |\n",
    "lag(log_sales, 2) +diff(log_price)+diff(log_pimin)+diff(log_ndi) - 1,\n",
    "Cigar, index = c(\"state\", \"year\"),\n",
    "model = \"pooling\" )\n",
    "coef(summary(ahsiao))[1:2,]"
   ]
  },
  {
   "cell_type": "code",
   "execution_count": 44,
   "metadata": {},
   "outputs": [
    {
     "name": "stderr",
     "output_type": "stream",
     "text": [
      "Warning message in pgmm(log_sales ~ lag(log_sales) + log_price + log_pimin + log_ndi | :\n",
      "\"the second-step matrix is singular, a general inverse is used\"\n",
      "Warning message in vcovHC.pgmm(object):\n",
      "\"a general inverse is used\"\n"
     ]
    },
    {
     "data": {
      "text/html": [
       "<table>\n",
       "<caption>A matrix: 4 × 4 of type dbl</caption>\n",
       "<thead>\n",
       "\t<tr><th></th><th scope=col>Estimate</th><th scope=col>Std. Error</th><th scope=col>z-value</th><th scope=col>Pr(&gt;|z|)</th></tr>\n",
       "</thead>\n",
       "<tbody>\n",
       "\t<tr><th scope=row>lag(log_sales)</th><td> 0.83252979</td><td>0.02845299</td><td>29.2598360</td><td>3.366337e-188</td></tr>\n",
       "\t<tr><th scope=row>log_price</th><td>-0.37012836</td><td>0.04266215</td><td>-8.6758012</td><td> 4.106490e-18</td></tr>\n",
       "\t<tr><th scope=row>log_pimin</th><td>-0.02779783</td><td>0.05850464</td><td>-0.4751389</td><td> 6.346879e-01</td></tr>\n",
       "\t<tr><th scope=row>log_ndi</th><td> 0.13432897</td><td>0.06117926</td><td> 2.1956620</td><td> 2.811614e-02</td></tr>\n",
       "</tbody>\n",
       "</table>\n"
      ],
      "text/latex": [
       "A matrix: 4 × 4 of type dbl\n",
       "\\begin{tabular}{r|llll}\n",
       "  & Estimate & Std. Error & z-value & Pr(>\\textbar{}z\\textbar{})\\\\\n",
       "\\hline\n",
       "\tlag(log\\_sales) &  0.83252979 & 0.02845299 & 29.2598360 & 3.366337e-188\\\\\n",
       "\tlog\\_price & -0.37012836 & 0.04266215 & -8.6758012 &  4.106490e-18\\\\\n",
       "\tlog\\_pimin & -0.02779783 & 0.05850464 & -0.4751389 &  6.346879e-01\\\\\n",
       "\tlog\\_ndi &  0.13432897 & 0.06117926 &  2.1956620 &  2.811614e-02\\\\\n",
       "\\end{tabular}\n"
      ],
      "text/markdown": [
       "\n",
       "A matrix: 4 × 4 of type dbl\n",
       "\n",
       "| <!--/--> | Estimate | Std. Error | z-value | Pr(&gt;|z|) |\n",
       "|---|---|---|---|---|\n",
       "| lag(log_sales) |  0.83252979 | 0.02845299 | 29.2598360 | 3.366337e-188 |\n",
       "| log_price | -0.37012836 | 0.04266215 | -8.6758012 |  4.106490e-18 |\n",
       "| log_pimin | -0.02779783 | 0.05850464 | -0.4751389 |  6.346879e-01 |\n",
       "| log_ndi |  0.13432897 | 0.06117926 |  2.1956620 |  2.811614e-02 |\n",
       "\n"
      ],
      "text/plain": [
       "               Estimate    Std. Error z-value    Pr(>|z|)     \n",
       "lag(log_sales)  0.83252979 0.02845299 29.2598360 3.366337e-188\n",
       "log_price      -0.37012836 0.04266215 -8.6758012  4.106490e-18\n",
       "log_pimin      -0.02779783 0.05850464 -0.4751389  6.346879e-01\n",
       "log_ndi         0.13432897 0.06117926  2.1956620  2.811614e-02"
      ]
     },
     "metadata": {},
     "output_type": "display_data"
    }
   ],
   "source": [
    "diff1 <- pgmm(log_sales ̃ lag(log_sales) + log_price+ log_pimin+log_ndi |\n",
    "lag(log_sales, 2:99),\n",
    "Cigar, index=c(\"state\", \"year\"),\n",
    "model=\"onestep\", effect=\"twoways\", subset = sample == 1)\n",
    "coef(summary(diff1))"
   ]
  },
  {
   "cell_type": "code",
   "execution_count": null,
   "metadata": {},
   "outputs": [],
   "source": []
  }
 ],
 "metadata": {
  "kernelspec": {
   "display_name": "R",
   "language": "R",
   "name": "ir"
  },
  "language_info": {
   "codemirror_mode": "r",
   "file_extension": ".r",
   "mimetype": "text/x-r-source",
   "name": "R",
   "pygments_lexer": "r",
   "version": "4.0.0"
  }
 },
 "nbformat": 4,
 "nbformat_minor": 2
}
