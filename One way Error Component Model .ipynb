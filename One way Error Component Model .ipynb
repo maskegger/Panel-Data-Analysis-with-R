{
 "cells": [
  {
   "cell_type": "markdown",
   "metadata": {},
   "source": [
    "\n",
    "#### Author of Jupyter Notebook : Monika Avila Marquez \n",
    "(All possible mistakes are my responsability and you are encouraged to email me in case you find any)"
   ]
  },
  {
   "cell_type": "markdown",
   "metadata": {},
   "source": [
    "### ONE WAY ERROR COMPONENT  MODEL with R\n",
    "\n",
    "In this Jupyter Notebook, I provide an empirical illustration of the one way Error Component Model of Chapter 2 of Badi Baltagi, Econometric Analysis of Panel Data, 5th. Edition using the material provided in \"Getting Started in Fixed/Random Effects Models using R\", Torres-Reyna Oscar, https://www.princeton.edu/~otorres/Panel101R.pdf. "
   ]
  },
  {
   "cell_type": "code",
   "execution_count": 1,
   "metadata": {},
   "outputs": [
    {
     "name": "stderr",
     "output_type": "stream",
     "text": [
      "Installing package into 'C:/Users/Monika/Documents/R/win-library/3.5'\n",
      "(as 'lib' is unspecified)\n",
      "Warning message:\n",
      "\"package 'caTools' is not available (for R version 3.5.0)\"Installing package into 'C:/Users/Monika/Documents/R/win-library/3.5'\n",
      "(as 'lib' is unspecified)\n"
     ]
    },
    {
     "name": "stdout",
     "output_type": "stream",
     "text": [
      "\n",
      "  There is a binary version available but the source version is later:\n",
      "       binary source needs_compilation\n",
      "bitops  1.0-6  1.0-7              TRUE\n",
      "\n",
      "  Binaries will be installed\n",
      "package 'bitops' successfully unpacked and MD5 sums checked\n",
      "\n",
      "The downloaded binary packages are in\n",
      "\tC:\\Users\\Monika\\AppData\\Local\\Temp\\Rtmp8IYTWk\\downloaded_packages\n"
     ]
    },
    {
     "name": "stderr",
     "output_type": "stream",
     "text": [
      "Installing package into 'C:/Users/Monika/Documents/R/win-library/3.5'\n",
      "(as 'lib' is unspecified)\n",
      "Warning message:\n",
      "\"dependency 'caTools' is not available\""
     ]
    },
    {
     "name": "stdout",
     "output_type": "stream",
     "text": [
      "\n",
      "  There is a binary version available but the source version is later:\n",
      "       binary source needs_compilation\n",
      "gplots  3.0.3  3.1.1             FALSE\n",
      "\n"
     ]
    },
    {
     "name": "stderr",
     "output_type": "stream",
     "text": [
      "installing the source package 'gplots'\n",
      "\n",
      "Warning message in install.packages(\"gplots\"):\n",
      "\"installation of package 'gplots' had non-zero exit status\""
     ]
    }
   ],
   "source": [
    "install.packages(\"caTools\")\n",
    "install.packages(\"bitops\")\n",
    "install.packages(\"gplots\")\n",
    "install.packages(\"plm\")"
   ]
  },
  {
   "cell_type": "code",
   "execution_count": 2,
   "metadata": {},
   "outputs": [
    {
     "name": "stderr",
     "output_type": "stream",
     "text": [
      "Warning message:\n",
      "\"package 'car' was built under R version 3.5.2\"Loading required package: carData\n",
      "Warning message:\n",
      "\"package 'carData' was built under R version 3.5.2\""
     ]
    }
   ],
   "source": [
    "library(foreign)\n",
    "library(car)\n"
   ]
  },
  {
   "cell_type": "code",
   "execution_count": 3,
   "metadata": {},
   "outputs": [
    {
     "name": "stderr",
     "output_type": "stream",
     "text": [
      "Loading required package: gplots\n",
      "Warning message in library(package, lib.loc = lib.loc, character.only = TRUE, logical.return = TRUE, :\n",
      "\"there is no package called 'gplots'\""
     ]
    }
   ],
   "source": [
    "require(gplots)"
   ]
  },
  {
   "cell_type": "code",
   "execution_count": 4,
   "metadata": {},
   "outputs": [
    {
     "data": {
      "text/html": [
       "<table>\n",
       "<thead><tr><th scope=col>country</th><th scope=col>year</th><th scope=col>y</th><th scope=col>y_bin</th><th scope=col>x1</th><th scope=col>x2</th><th scope=col>x3</th><th scope=col>opinion</th><th scope=col>op</th></tr></thead>\n",
       "<tbody>\n",
       "\t<tr><td>A          </td><td>1990       </td><td> 1342787840</td><td>1          </td><td>0.2779036  </td><td>-1.1079559 </td><td> 0.28255358</td><td>Str agree  </td><td>1          </td></tr>\n",
       "\t<tr><td>A          </td><td>1991       </td><td>-1899660544</td><td>0          </td><td>0.3206847  </td><td>-0.9487200 </td><td> 0.49253848</td><td>Disag      </td><td>0          </td></tr>\n",
       "\t<tr><td>A          </td><td>1992       </td><td>  -11234363</td><td>0          </td><td>0.3634657  </td><td>-0.7894840 </td><td> 0.70252335</td><td>Disag      </td><td>0          </td></tr>\n",
       "\t<tr><td>A          </td><td>1993       </td><td> 2645775360</td><td>1          </td><td>0.2461440  </td><td>-0.8855330 </td><td>-0.09439092</td><td>Disag      </td><td>0          </td></tr>\n",
       "\t<tr><td>A          </td><td>1994       </td><td> 3008334848</td><td>1          </td><td>0.4246230  </td><td>-0.7297683 </td><td> 0.94613063</td><td>Disag      </td><td>0          </td></tr>\n",
       "\t<tr><td>A          </td><td>1995       </td><td> 3229574144</td><td>1          </td><td>0.4772141  </td><td>-0.7232460 </td><td> 1.02968037</td><td>Str agree  </td><td>1          </td></tr>\n",
       "</tbody>\n",
       "</table>\n"
      ],
      "text/latex": [
       "\\begin{tabular}{r|lllllllll}\n",
       " country & year & y & y\\_bin & x1 & x2 & x3 & opinion & op\\\\\n",
       "\\hline\n",
       "\t A           & 1990        &  1342787840 & 1           & 0.2779036   & -1.1079559  &  0.28255358 & Str agree   & 1          \\\\\n",
       "\t A           & 1991        & -1899660544 & 0           & 0.3206847   & -0.9487200  &  0.49253848 & Disag       & 0          \\\\\n",
       "\t A           & 1992        &   -11234363 & 0           & 0.3634657   & -0.7894840  &  0.70252335 & Disag       & 0          \\\\\n",
       "\t A           & 1993        &  2645775360 & 1           & 0.2461440   & -0.8855330  & -0.09439092 & Disag       & 0          \\\\\n",
       "\t A           & 1994        &  3008334848 & 1           & 0.4246230   & -0.7297683  &  0.94613063 & Disag       & 0          \\\\\n",
       "\t A           & 1995        &  3229574144 & 1           & 0.4772141   & -0.7232460  &  1.02968037 & Str agree   & 1          \\\\\n",
       "\\end{tabular}\n"
      ],
      "text/markdown": [
       "\n",
       "| country | year | y | y_bin | x1 | x2 | x3 | opinion | op |\n",
       "|---|---|---|---|---|---|---|---|---|\n",
       "| A           | 1990        |  1342787840 | 1           | 0.2779036   | -1.1079559  |  0.28255358 | Str agree   | 1           |\n",
       "| A           | 1991        | -1899660544 | 0           | 0.3206847   | -0.9487200  |  0.49253848 | Disag       | 0           |\n",
       "| A           | 1992        |   -11234363 | 0           | 0.3634657   | -0.7894840  |  0.70252335 | Disag       | 0           |\n",
       "| A           | 1993        |  2645775360 | 1           | 0.2461440   | -0.8855330  | -0.09439092 | Disag       | 0           |\n",
       "| A           | 1994        |  3008334848 | 1           | 0.4246230   | -0.7297683  |  0.94613063 | Disag       | 0           |\n",
       "| A           | 1995        |  3229574144 | 1           | 0.4772141   | -0.7232460  |  1.02968037 | Str agree   | 1           |\n",
       "\n"
      ],
      "text/plain": [
       "  country year y           y_bin x1        x2         x3          opinion   op\n",
       "1 A       1990  1342787840 1     0.2779036 -1.1079559  0.28255358 Str agree 1 \n",
       "2 A       1991 -1899660544 0     0.3206847 -0.9487200  0.49253848 Disag     0 \n",
       "3 A       1992   -11234363 0     0.3634657 -0.7894840  0.70252335 Disag     0 \n",
       "4 A       1993  2645775360 1     0.2461440 -0.8855330 -0.09439092 Disag     0 \n",
       "5 A       1994  3008334848 1     0.4246230 -0.7297683  0.94613063 Disag     0 \n",
       "6 A       1995  3229574144 1     0.4772141 -0.7232460  1.02968037 Str agree 1 "
      ]
     },
     "metadata": {},
     "output_type": "display_data"
    }
   ],
   "source": [
    "# 1. Upload data  \n",
    "Panel <- read.dta(\"http://dss.princeton.edu/training/Panel101.dta\")\n",
    "head(Panel)"
   ]
  },
  {
   "cell_type": "code",
   "execution_count": 5,
   "metadata": {},
   "outputs": [
    {
     "data": {
      "text/plain": [
       " country      year            y                  y_bin           x1         \n",
       " A:10    Min.   :1990   Min.   :-7.863e+09   Min.   :0.0   Min.   :-0.5676  \n",
       " B:10    1st Qu.:1992   1st Qu.: 2.466e+08   1st Qu.:1.0   1st Qu.: 0.3290  \n",
       " C:10    Median :1994   Median : 1.898e+09   Median :1.0   Median : 0.6413  \n",
       " D:10    Mean   :1994   Mean   : 1.845e+09   Mean   :0.8   Mean   : 0.6480  \n",
       " E:10    3rd Qu.:1997   3rd Qu.: 3.372e+09   3rd Qu.:1.0   3rd Qu.: 1.0958  \n",
       " F:10    Max.   :1999   Max.   : 8.941e+09   Max.   :1.0   Max.   : 1.4464  \n",
       " G:10                                                                       \n",
       "       x2                x3                opinion         op     \n",
       " Min.   :-1.6218   Min.   :-1.16539   Str agree:20   Min.   :0.0  \n",
       " 1st Qu.:-1.2156   1st Qu.:-0.07931   Agree    :15   1st Qu.:0.0  \n",
       " Median :-0.4621   Median : 0.51419   Disag    :19   Median :0.5  \n",
       " Mean   : 0.1339   Mean   : 0.76185   Str disag:16   Mean   :0.5  \n",
       " 3rd Qu.: 1.6078   3rd Qu.: 1.15486                  3rd Qu.:1.0  \n",
       " Max.   : 2.5303   Max.   : 7.16892                  Max.   :1.0  \n",
       "                                                                  "
      ]
     },
     "metadata": {},
     "output_type": "display_data"
    },
    {
     "data": {
      "text/html": [
       "70"
      ],
      "text/latex": [
       "70"
      ],
      "text/markdown": [
       "70"
      ],
      "text/plain": [
       "[1] 70"
      ]
     },
     "metadata": {},
     "output_type": "display_data"
    },
    {
     "data": {
      "text/html": [
       "70"
      ],
      "text/latex": [
       "70"
      ],
      "text/markdown": [
       "70"
      ],
      "text/plain": [
       "[1] 70"
      ]
     },
     "metadata": {},
     "output_type": "display_data"
    }
   ],
   "source": [
    "# 1. Data exploration: goal is to understand the data set \n",
    "# 1.1 Size or amount of data\n",
    "summary(Panel)\n",
    "nrow(Panel)\n",
    "# 1.2 Completeness of the data\n",
    "NROW(na.omit(Panel))\n",
    "# 1.3 Correctness of the data\n",
    "#We do not have much info about this so we can \n",
    "#assume data is correct and no measurement error on the variables\n"
   ]
  },
  {
   "cell_type": "code",
   "execution_count": 6,
   "metadata": {},
   "outputs": [],
   "source": [
    "N=7\n",
    "T=10"
   ]
  },
  {
   "cell_type": "code",
   "execution_count": 7,
   "metadata": {},
   "outputs": [
    {
     "data": {
      "image/png": "[encoded data removed]",
      "text/plain": [
       "plot without title"
      ]
     },
     "metadata": {},
     "output_type": "display_data"
    }
   ],
   "source": [
    "# 1.4 Graphical analysis \n",
    "coplot(y ~ year|country, type=\"b\", data=Panel) # Generate a line chart for each country "
   ]
  },
  {
   "cell_type": "markdown",
   "metadata": {},
   "source": [
    "We can see that some countries present a similar behaviour over time on variable y."
   ]
  },
  {
   "cell_type": "code",
   "execution_count": 8,
   "metadata": {},
   "outputs": [
    {
     "name": "stderr",
     "output_type": "stream",
     "text": [
      "Warning message in plot.window(...):\n",
      "\"\"reg.line\" is not a graphical parameter\"Warning message in plot.xy(xy, type, ...):\n",
      "\"\"reg.line\" is not a graphical parameter\"Warning message in axis(side = side, at = at, labels = labels, ...):\n",
      "\"\"reg.line\" is not a graphical parameter\"Warning message in axis(side = side, at = at, labels = labels, ...):\n",
      "\"\"reg.line\" is not a graphical parameter\"Warning message in box(...):\n",
      "\"\"reg.line\" is not a graphical parameter\"Warning message in title(...):\n",
      "\"\"reg.line\" is not a graphical parameter\""
     ]
    },
    {
     "data": {
      "image/png": "[encoded data removed]",
      "text/plain": [
       "plot without title"
      ]
     },
     "metadata": {},
     "output_type": "display_data"
    }
   ],
   "source": [
    "scatterplot(y~year|country, boxplots=FALSE, smooth=TRUE, reg.line=FALSE, data=Panel)\n"
   ]
  },
  {
   "cell_type": "code",
   "execution_count": 10,
   "metadata": {},
   "outputs": [
    {
     "ename": "ERROR",
     "evalue": "Error in plotmeans(y ~ country, main = \"Heterogeineity across countries\", : could not find function \"plotmeans\"\n",
     "output_type": "error",
     "traceback": [
      "Error in plotmeans(y ~ country, main = \"Heterogeineity across countries\", : could not find function \"plotmeans\"\nTraceback:\n"
     ]
    }
   ],
   "source": [
    "\n",
    "plotmeans(y ~ country, main=\"Heterogeineity across countries\", data=Panel)"
   ]
  },
  {
   "cell_type": "code",
   "execution_count": 11,
   "metadata": {},
   "outputs": [
    {
     "data": {
      "text/plain": [
       "\n",
       "Call:\n",
       "lm(formula = y ~ x1, data = Panel)\n",
       "\n",
       "Residuals:\n",
       "       Min         1Q     Median         3Q        Max \n",
       "-9.546e+09 -1.578e+09  1.554e+08  1.422e+09  7.183e+09 \n",
       "\n",
       "Coefficients:\n",
       "             Estimate Std. Error t value Pr(>|t|)  \n",
       "(Intercept) 1.524e+09  6.211e+08   2.454   0.0167 *\n",
       "x1          4.950e+08  7.789e+08   0.636   0.5272  \n",
       "---\n",
       "Signif. codes:  0 '***' 0.001 '**' 0.01 '*' 0.05 '.' 0.1 ' ' 1\n",
       "\n",
       "Residual standard error: 3.028e+09 on 68 degrees of freedom\n",
       "Multiple R-squared:  0.005905,\tAdjusted R-squared:  -0.008714 \n",
       "F-statistic: 0.4039 on 1 and 68 DF,  p-value: 0.5272\n"
      ]
     },
     "metadata": {},
     "output_type": "display_data"
    }
   ],
   "source": [
    "# 2. Data modeling\n",
    "# Naive pooled OLS\n",
    "ols <-lm(y ~ x1, data=Panel)\n",
    "summary(ols)"
   ]
  },
  {
   "cell_type": "markdown",
   "metadata": {},
   "source": [
    "# 4. Model evaluation \n",
    "\n",
    "Problems? \n",
    "\n",
    "Ignoring unobserved individual specific heterogeneity can cause two issues depending on the correlation of this heterogeneity with the regressors: \n",
    "\n",
    "1. Unobserved individual specific heterogeneity uncorrelated to the regressors:  Inference is incorrect since we do not take into account the within individual correlations caused by the presence of the individual specific heterogeneity. In this case, we can model the unobserved heterogeneity as uncorrelated random effects and the BLUE is the GLS. Additionally, when N and T grow to infinity the GLS is equivalent to the Within estimator. \n",
    "\n",
    "or\n",
    "\n",
    "2. Unobserved individual specific heterogeneity correlated to the regressors: Inconsistent estimates when the  individual specific heterogeneity is correlated to the regressors. In this case, we can use the Fixed Effects framweork and the BLUE estimator is Within estimator. \n",
    "\n",
    "\n",
    "I quote two authors below: \n",
    "\n",
    "1. Arellano in his book Panel Data Econometrics, 2003 explains: \"As for the nature of the effects,strictly speaking,the term fixed effects would refer to a sampling process in which the same units are (possibly) repeatedly sampled for a given period holding constant the effects. In such context one often has in mind a distribution of individual effects chosen by the researcher. Here we imagine a sample randomly drawn from a multivariate population of observable data and unobservable effects. This notion may or may not correspond to the physical nature of data collection. It would be so,for example, in the case of some household surveys,but not with data on all quoted firms or OECD countries. In those cases,the multivariate population from which the data are supposed to come is a hypothetical one. Moreover,we are interested in models which only specify features of the conditional distribution f (yi | xi, ηi). Therefore,w e are not concerned with whether the distribution that generates the data on xi and ηi, f (xi, ηi) say,is representative of some cross-sectional population or of the researcher's wishes. We just regard (yi, xi, ηi) as a random sample from the (perhaps artificial) multivariate population with joint distribution f (yi, xi, ηi) = f (yi | xi, ηi) f (xi, ηi) and focus on the conditional distribution of yi. So in common with much of the econometric literature,we use the term fixed effects to refer to a situation in which f (ηi | xi) is left unrestricted\"\n",
    "\n",
    "2.  Wooldrdige, in his book Econometric Analysis of Cross Section and Panel Data expalins \"methodological papers, but also in applications, one often sees a discussion about whether ci will be treated as a random e¤ect or a fixed e¤ect. Originally, such discussions centered on whether c_i (the indivudal specific unobserved effect) is properly viewed as a random variable or as a parameter to be estimated. In the traditional approach to panel data models, c_i is called a ‘‘random e¤ect’’ when it is treated as a random variable and a ‘‘fixed effect’’ when it is treated as a parameter to be estimated for each cross section observation. Our view is that discussions about whether the ci should be treated as random variables or as parameters to be estimated are wrongheaded for microeconometric panel data applications. With a large number of random draws from the cross section, it almost always makes sense to treat the unobserved e¤ects, ci, as random draws from the population, along with yit and xit. This approach is certainly appropriate from an omitted variables or neglected heterogeneity perspective.\""
   ]
  },
  {
   "cell_type": "code",
   "execution_count": 12,
   "metadata": {},
   "outputs": [
    {
     "data": {
      "image/png": "[encoded data removed]",
      "text/plain": [
       "plot without title"
      ]
     },
     "metadata": {},
     "output_type": "display_data"
    }
   ],
   "source": [
    "\n",
    "yhat <- ols$fitted\n",
    "plot(Panel$x1, Panel$y, pch=19, xlab=\"x1\", ylab=\"y\")\n",
    "abline(lm(Panel$y~Panel$x1),lwd=3, col=\"red\")"
   ]
  },
  {
   "cell_type": "markdown",
   "metadata": {},
   "source": [
    "We can see that the fitting of the linear pooled model is poor. "
   ]
  },
  {
   "cell_type": "code",
   "execution_count": 13,
   "metadata": {},
   "outputs": [
    {
     "data": {
      "text/plain": [
       "\n",
       "Call:\n",
       "lm(formula = y ~ x1 + factor(country) - 1, data = Panel)\n",
       "\n",
       "Residuals:\n",
       "       Min         1Q     Median         3Q        Max \n",
       "-8.634e+09 -9.697e+08  5.405e+08  1.386e+09  5.612e+09 \n",
       "\n",
       "Coefficients:\n",
       "                   Estimate Std. Error t value Pr(>|t|)    \n",
       "x1                2.476e+09  1.107e+09   2.237  0.02889 *  \n",
       "factor(country)A  8.805e+08  9.618e+08   0.916  0.36347    \n",
       "factor(country)B -1.058e+09  1.051e+09  -1.006  0.31811    \n",
       "factor(country)C -1.723e+09  1.632e+09  -1.056  0.29508    \n",
       "factor(country)D  3.163e+09  9.095e+08   3.478  0.00093 ***\n",
       "factor(country)E -6.026e+08  1.064e+09  -0.566  0.57329    \n",
       "factor(country)F  2.011e+09  1.123e+09   1.791  0.07821 .  \n",
       "factor(country)G -9.847e+08  1.493e+09  -0.660  0.51190    \n",
       "---\n",
       "Signif. codes:  0 '***' 0.001 '**' 0.01 '*' 0.05 '.' 0.1 ' ' 1\n",
       "\n",
       "Residual standard error: 2.796e+09 on 62 degrees of freedom\n",
       "Multiple R-squared:  0.4402,\tAdjusted R-squared:  0.368 \n",
       "F-statistic: 6.095 on 8 and 62 DF,  p-value: 8.892e-06\n"
      ]
     },
     "metadata": {},
     "output_type": "display_data"
    }
   ],
   "source": [
    "# 2. Modeling \n",
    "# Least Squares Dummy estimation\n",
    "fixed.dum <-lm(y ~ x1 + factor(country) - 1, data=Panel)\n",
    "summary(fixed.dum)"
   ]
  },
  {
   "cell_type": "markdown",
   "metadata": {},
   "source": [
    "\n",
    "In this case, we estimated the model just by adding dummies for each country performing OLS. In this case, the panel has N=7 and T=10 which means 70 data points in total and 8 regressors included and estimation with this Naive method is ok but it is better to use Within estimation to avoid inversion of a big matrix when N grows to infinity. \n"
   ]
  },
  {
   "cell_type": "code",
   "execution_count": 14,
   "metadata": {},
   "outputs": [],
   "source": [
    "yhat <- fixed.dum$fitted"
   ]
  },
  {
   "cell_type": "code",
   "execution_count": 15,
   "metadata": {},
   "outputs": [
    {
     "data": {
      "image/png": "[encoded data removed]",
      "text/plain": [
       "plot without title"
      ]
     },
     "metadata": {},
     "output_type": "display_data"
    }
   ],
   "source": [
    "library(car)\n",
    "scatterplot(yhat~Panel$x1|Panel$country, boxplots=FALSE, xlab=\"x1\", ylab=\"yhat\",smooth=FALSE)\n",
    "abline(lm(Panel$y~Panel$x1),lwd=3, col=\"red\")"
   ]
  },
  {
   "cell_type": "markdown",
   "metadata": {},
   "source": [
    "We can see the parallel fitted linear regressions for each country compared with the linear fitted regression for the pooled model. "
   ]
  },
  {
   "cell_type": "code",
   "execution_count": 16,
   "metadata": {},
   "outputs": [
    {
     "data": {
      "text/plain": [
       "\n",
       "Call:\n",
       "lm(formula = y_w ~ x1_w - 1, data = Panel_demeaned)\n",
       "\n",
       "Residuals:\n",
       "       Min         1Q     Median         3Q        Max \n",
       "-8.634e+09 -9.697e+08  5.405e+08  1.386e+09  5.612e+09 \n",
       "\n",
       "Coefficients:\n",
       "      Estimate Std. Error t value Pr(>|t|)  \n",
       "x1_w 2.476e+09  1.049e+09    2.36   0.0211 *\n",
       "---\n",
       "Signif. codes:  0 '***' 0.001 '**' 0.01 '*' 0.05 '.' 0.1 ' ' 1\n",
       "\n",
       "Residual standard error: 2.65e+09 on 69 degrees of freedom\n",
       "Multiple R-squared:  0.07468,\tAdjusted R-squared:  0.06127 \n",
       "F-statistic: 5.569 on 1 and 69 DF,  p-value: 0.02111\n"
      ]
     },
     "metadata": {},
     "output_type": "display_data"
    }
   ],
   "source": [
    "# Within Estimation: This is the optimal to avoid inversion of a potential huge matrix. \n",
    "# (Reference for this section: https://www.econometrics-with-r.org/10-3-fixed-effects-regression.html)\n",
    "# Obtain demeaned data\n",
    "Panel_demeaned <- with(Panel,\n",
    "            data.frame(y_w = y - ave(y, country),\n",
    "            x1_w = x1 - ave(x1, country)))\n",
    "# Estimate the regression\n",
    "summary(lm(y_w ~ x1_w - 1, data = Panel_demeaned))"
   ]
  },
  {
   "cell_type": "markdown",
   "metadata": {},
   "source": [
    "We obtain the same coefficient as in the LSDV Model but if N would grow, we rather use Within estimation. "
   ]
  },
  {
   "cell_type": "code",
   "execution_count": 17,
   "metadata": {},
   "outputs": [
    {
     "name": "stderr",
     "output_type": "stream",
     "text": [
      "Installing package into 'C:/Users/Monika/Documents/R/win-library/3.5'\n",
      "(as 'lib' is unspecified)\n",
      "also installing the dependency 'lmtest'\n",
      "\n"
     ]
    },
    {
     "name": "stdout",
     "output_type": "stream",
     "text": [
      "\n",
      "  There are binary versions available but the source versions are later:\n",
      "       binary source needs_compilation\n",
      "lmtest 0.9-37 0.9-38              TRUE\n",
      "plm     2.2-3  2.4-1             FALSE\n",
      "\n",
      "  Binaries will be installed\n",
      "package 'lmtest' successfully unpacked and MD5 sums checked\n",
      "\n",
      "The downloaded binary packages are in\n",
      "\tC:\\Users\\Monika\\AppData\\Local\\Temp\\Rtmp8IYTWk\\downloaded_packages\n"
     ]
    },
    {
     "name": "stderr",
     "output_type": "stream",
     "text": [
      "installing the source package 'plm'\n",
      "\n"
     ]
    }
   ],
   "source": [
    "# Within Estimation: Another option in R \n",
    "# (Reference for this section: https://www.econometrics-with-r.org/10-3-fixed-effects-regression.html)\n",
    "# install and load the 'plm' package\n",
    "install.packages(\"plm\")\n",
    "library(plm)"
   ]
  },
  {
   "cell_type": "code",
   "execution_count": 18,
   "metadata": {},
   "outputs": [],
   "source": [
    "\n",
    "\n",
    "# estimate the fixed effects regression with plm()\n",
    "fe_mod <- plm(y ~ x1, \n",
    "                    data = Panel,\n",
    "                    index = c(\"country\", \"year\"), \n",
    "                    model = \"within\")\n"
   ]
  },
  {
   "cell_type": "code",
   "execution_count": 19,
   "metadata": {},
   "outputs": [
    {
     "data": {
      "text/plain": [
       "Oneway (individual) effect Within Model\n",
       "\n",
       "Call:\n",
       "plm(formula = y ~ x1, data = Panel, model = \"within\", index = c(\"country\", \n",
       "    \"year\"))\n",
       "\n",
       "Balanced Panel: n = 7, T = 10, N = 70\n",
       "\n",
       "Residuals:\n",
       "     Min.   1st Qu.    Median      Mean   3rd Qu.      Max. \n",
       "-8.63e+09 -9.70e+08  5.40e+08  0.00e+00  1.39e+09  5.61e+09 \n",
       "\n",
       "Coefficients:\n",
       "     Estimate Std. Error t-value Pr(>|t|)  \n",
       "x1 2475617827 1106675594   2.237  0.02889 *\n",
       "---\n",
       "Signif. codes:  0 '***' 0.001 '**' 0.01 '*' 0.05 '.' 0.1 ' ' 1\n",
       "\n",
       "Total Sum of Squares:    5.2364e+20\n",
       "Residual Sum of Squares: 4.8454e+20\n",
       "R-Squared:      0.074684\n",
       "Adj. R-Squared: -0.029788\n",
       "F-statistic: 5.00411 on 1 and 62 DF, p-value: 0.028892"
      ]
     },
     "metadata": {},
     "output_type": "display_data"
    }
   ],
   "source": [
    "summary(fe_mod)"
   ]
  },
  {
   "cell_type": "code",
   "execution_count": 1,
   "metadata": {},
   "outputs": [
    {
     "ename": "ERROR",
     "evalue": "Error in plm(y ~ x1, data = Panel, index = c(\"country\", \"year\"), model = \"random\"): could not find function \"plm\"\n",
     "output_type": "error",
     "traceback": [
      "Error in plm(y ~ x1, data = Panel, index = c(\"country\", \"year\"), model = \"random\"): could not find function \"plm\"\nTraceback:\n"
     ]
    }
   ],
   "source": [
    "\n",
    "# estimate the random effects regression with plm()\n",
    "re_mod <- plm(y ~ x1, \n",
    "                    data = Panel,\n",
    "                    index = c(\"country\", \"year\"), \n",
    "                    model = \"random\")"
   ]
  },
  {
   "cell_type": "code",
   "execution_count": 22,
   "metadata": {},
   "outputs": [
    {
     "data": {
      "text/plain": [
       "Oneway (individual) effect Random Effect Model \n",
       "   (Swamy-Arora's transformation)\n",
       "\n",
       "Call:\n",
       "plm(formula = y ~ x1, data = Panel, model = \"random\", index = c(\"country\", \n",
       "    \"year\"))\n",
       "\n",
       "Balanced Panel: n = 7, T = 10, N = 70\n",
       "\n",
       "Effects:\n",
       "                    var   std.dev share\n",
       "idiosyncratic 7.815e+18 2.796e+09 0.873\n",
       "individual    1.133e+18 1.065e+09 0.127\n",
       "theta: 0.3611\n",
       "\n",
       "Residuals:\n",
       "     Min.   1st Qu.    Median      Mean   3rd Qu.      Max. \n",
       "-8.94e+09 -1.51e+09  2.82e+08  0.00e+00  1.56e+09  6.63e+09 \n",
       "\n",
       "Coefficients:\n",
       "              Estimate Std. Error z-value Pr(>|z|)\n",
       "(Intercept) 1037014284  790626206  1.3116   0.1896\n",
       "x1          1247001782  902145601  1.3823   0.1669\n",
       "\n",
       "Total Sum of Squares:    5.6595e+20\n",
       "Residual Sum of Squares: 5.5048e+20\n",
       "R-Squared:      0.02733\n",
       "Adj. R-Squared: 0.013026\n",
       "Chisq: 1.91065 on 1 DF, p-value: 0.16689"
      ]
     },
     "metadata": {},
     "output_type": "display_data"
    }
   ],
   "source": [
    "summary(re_mod)"
   ]
  },
  {
   "cell_type": "code",
   "execution_count": null,
   "metadata": {},
   "outputs": [],
   "source": []
  }
 ],
 "metadata": {
  "kernelspec": {
   "display_name": "R",
   "language": "R",
   "name": "ir"
  },
  "language_info": {
   "codemirror_mode": "r",
   "file_extension": ".r",
   "mimetype": "text/x-r-source",
   "name": "R",
   "pygments_lexer": "r",
   "version": "3.5.0"
  }
 },
 "nbformat": 4,
 "nbformat_minor": 2
}
